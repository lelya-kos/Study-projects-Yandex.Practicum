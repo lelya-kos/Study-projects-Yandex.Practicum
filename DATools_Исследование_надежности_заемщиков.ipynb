{
  "cells": [
    {
      "cell_type": "markdown",
      "id": "386f2ae7",
      "metadata": {
        "deletable": false,
        "editable": false,
        "id": "386f2ae7"
      },
      "source": [
        "# Исследование надежности заемщиков\n"
      ]
    },
    {
      "cell_type": "markdown",
      "id": "7e5d73e0",
      "metadata": {
        "id": "7e5d73e0"
      },
      "source": [
        "**Описание проекта**\n",
        "\n",
        "Заказчик исследования - кредитный отдел банка.<br>\n",
        "Цель исследования - определить влияние семейного положения и количества детей клиента на своевременное погашение кредита. На основе полученных результатов разработать рекомендации по включению семейного положения и количества детей в модель кредитного скоринга.\n",
        "<br>\n",
        "Входные данные от банка — статистика о платёжеспособности клиентов.<br>"
      ]
    },
    {
      "cell_type": "markdown",
      "id": "26613308",
      "metadata": {
        "deletable": false,
        "editable": false,
        "id": "26613308"
      },
      "source": [
        "## Общая информация о данных"
      ]
    },
    {
      "cell_type": "markdown",
      "id": "3c9f838e",
      "metadata": {
        "deletable": false,
        "editable": false,
        "id": "3c9f838e"
      },
      "source": [
        "Импортируем библиотеку pandas. Считаем данные из csv-файла в датафрейм и сохраним в переменную `data`."
      ]
    },
    {
      "cell_type": "code",
      "execution_count": 1,
      "id": "77a68a90",
      "metadata": {
        "deletable": false,
        "id": "77a68a90"
      },
      "outputs": [],
      "source": [
        "import pandas as pd\n",
        "\n",
        "try:\n",
        "    data = pd.read_csv('/datasets/data.csv')\n",
        "except:\n",
        "    data = pd.read_csv('https://code.s3.yandex.net/datasets/data.csv')"
      ]
    },
    {
      "cell_type": "markdown",
      "id": "45365635",
      "metadata": {
        "deletable": false,
        "editable": false,
        "id": "45365635"
      },
      "source": [
        "Выведем первые 20 строчек датафрейма `data` на экран"
      ]
    },
    {
      "cell_type": "code",
      "execution_count": 2,
      "id": "b0451a9a",
      "metadata": {
        "deletable": false,
        "id": "b0451a9a",
        "outputId": "8f633a6f-c5d6-4fbc-ff32-eaf24d0ae16c",
        "colab": {
          "base_uri": "https://localhost:8080/",
          "height": 1000
        }
      },
      "outputs": [
        {
          "output_type": "execute_result",
          "data": {
            "text/plain": [
              "    children  days_employed  dob_years            education  education_id  \\\n",
              "0          1   -8437.673028         42               высшее             0   \n",
              "1          1   -4024.803754         36              среднее             1   \n",
              "2          0   -5623.422610         33              Среднее             1   \n",
              "3          3   -4124.747207         32              среднее             1   \n",
              "4          0  340266.072047         53              среднее             1   \n",
              "5          0    -926.185831         27               высшее             0   \n",
              "6          0   -2879.202052         43               высшее             0   \n",
              "7          0    -152.779569         50              СРЕДНЕЕ             1   \n",
              "8          2   -6929.865299         35               ВЫСШЕЕ             0   \n",
              "9          0   -2188.756445         41              среднее             1   \n",
              "10         2   -4171.483647         36               высшее             0   \n",
              "11         0    -792.701887         40              среднее             1   \n",
              "12         0            NaN         65              среднее             1   \n",
              "13         0   -1846.641941         54  неоконченное высшее             2   \n",
              "14         0   -1844.956182         56               высшее             0   \n",
              "15         1    -972.364419         26              среднее             1   \n",
              "16         0   -1719.934226         35              среднее             1   \n",
              "17         0   -2369.999720         33               высшее             0   \n",
              "18         0  400281.136913         53              среднее             1   \n",
              "19         0  -10038.818549         48              СРЕДНЕЕ             1   \n",
              "\n",
              "       family_status  family_status_id gender income_type  debt  \\\n",
              "0    женат / замужем                 0      F   сотрудник     0   \n",
              "1    женат / замужем                 0      F   сотрудник     0   \n",
              "2    женат / замужем                 0      M   сотрудник     0   \n",
              "3    женат / замужем                 0      M   сотрудник     0   \n",
              "4   гражданский брак                 1      F   пенсионер     0   \n",
              "5   гражданский брак                 1      M   компаньон     0   \n",
              "6    женат / замужем                 0      F   компаньон     0   \n",
              "7    женат / замужем                 0      M   сотрудник     0   \n",
              "8   гражданский брак                 1      F   сотрудник     0   \n",
              "9    женат / замужем                 0      M   сотрудник     0   \n",
              "10   женат / замужем                 0      M   компаньон     0   \n",
              "11   женат / замужем                 0      F   сотрудник     0   \n",
              "12  гражданский брак                 1      M   пенсионер     0   \n",
              "13   женат / замужем                 0      F   сотрудник     0   \n",
              "14  гражданский брак                 1      F   компаньон     1   \n",
              "15   женат / замужем                 0      F   сотрудник     0   \n",
              "16   женат / замужем                 0      F   сотрудник     0   \n",
              "17  гражданский брак                 1      M   сотрудник     0   \n",
              "18    вдовец / вдова                 2      F   пенсионер     0   \n",
              "19         в разводе                 3      F   сотрудник     0   \n",
              "\n",
              "     total_income                                 purpose  \n",
              "0   253875.639453                           покупка жилья  \n",
              "1   112080.014102                 приобретение автомобиля  \n",
              "2   145885.952297                           покупка жилья  \n",
              "3   267628.550329              дополнительное образование  \n",
              "4   158616.077870                         сыграть свадьбу  \n",
              "5   255763.565419                           покупка жилья  \n",
              "6   240525.971920                       операции с жильем  \n",
              "7   135823.934197                             образование  \n",
              "8    95856.832424                   на проведение свадьбы  \n",
              "9   144425.938277                 покупка жилья для семьи  \n",
              "10  113943.491460                    покупка недвижимости  \n",
              "11   77069.234271       покупка коммерческой недвижимости  \n",
              "12            NaN                         сыграть свадьбу  \n",
              "13  130458.228857                 приобретение автомобиля  \n",
              "14  165127.911772              покупка жилой недвижимости  \n",
              "15  116820.904450  строительство собственной недвижимости  \n",
              "16  289202.704229                            недвижимость  \n",
              "17   90410.586745              строительство недвижимости  \n",
              "18   56823.777243      на покупку подержанного автомобиля  \n",
              "19  242831.107982            на покупку своего автомобиля  "
            ],
            "text/html": [
              "\n",
              "  <div id=\"df-a43e3175-53e6-4b41-b3b7-3c79fb2300ae\" class=\"colab-df-container\">\n",
              "    <div>\n",
              "<style scoped>\n",
              "    .dataframe tbody tr th:only-of-type {\n",
              "        vertical-align: middle;\n",
              "    }\n",
              "\n",
              "    .dataframe tbody tr th {\n",
              "        vertical-align: top;\n",
              "    }\n",
              "\n",
              "    .dataframe thead th {\n",
              "        text-align: right;\n",
              "    }\n",
              "</style>\n",
              "<table border=\"1\" class=\"dataframe\">\n",
              "  <thead>\n",
              "    <tr style=\"text-align: right;\">\n",
              "      <th></th>\n",
              "      <th>children</th>\n",
              "      <th>days_employed</th>\n",
              "      <th>dob_years</th>\n",
              "      <th>education</th>\n",
              "      <th>education_id</th>\n",
              "      <th>family_status</th>\n",
              "      <th>family_status_id</th>\n",
              "      <th>gender</th>\n",
              "      <th>income_type</th>\n",
              "      <th>debt</th>\n",
              "      <th>total_income</th>\n",
              "      <th>purpose</th>\n",
              "    </tr>\n",
              "  </thead>\n",
              "  <tbody>\n",
              "    <tr>\n",
              "      <th>0</th>\n",
              "      <td>1</td>\n",
              "      <td>-8437.673028</td>\n",
              "      <td>42</td>\n",
              "      <td>высшее</td>\n",
              "      <td>0</td>\n",
              "      <td>женат / замужем</td>\n",
              "      <td>0</td>\n",
              "      <td>F</td>\n",
              "      <td>сотрудник</td>\n",
              "      <td>0</td>\n",
              "      <td>253875.639453</td>\n",
              "      <td>покупка жилья</td>\n",
              "    </tr>\n",
              "    <tr>\n",
              "      <th>1</th>\n",
              "      <td>1</td>\n",
              "      <td>-4024.803754</td>\n",
              "      <td>36</td>\n",
              "      <td>среднее</td>\n",
              "      <td>1</td>\n",
              "      <td>женат / замужем</td>\n",
              "      <td>0</td>\n",
              "      <td>F</td>\n",
              "      <td>сотрудник</td>\n",
              "      <td>0</td>\n",
              "      <td>112080.014102</td>\n",
              "      <td>приобретение автомобиля</td>\n",
              "    </tr>\n",
              "    <tr>\n",
              "      <th>2</th>\n",
              "      <td>0</td>\n",
              "      <td>-5623.422610</td>\n",
              "      <td>33</td>\n",
              "      <td>Среднее</td>\n",
              "      <td>1</td>\n",
              "      <td>женат / замужем</td>\n",
              "      <td>0</td>\n",
              "      <td>M</td>\n",
              "      <td>сотрудник</td>\n",
              "      <td>0</td>\n",
              "      <td>145885.952297</td>\n",
              "      <td>покупка жилья</td>\n",
              "    </tr>\n",
              "    <tr>\n",
              "      <th>3</th>\n",
              "      <td>3</td>\n",
              "      <td>-4124.747207</td>\n",
              "      <td>32</td>\n",
              "      <td>среднее</td>\n",
              "      <td>1</td>\n",
              "      <td>женат / замужем</td>\n",
              "      <td>0</td>\n",
              "      <td>M</td>\n",
              "      <td>сотрудник</td>\n",
              "      <td>0</td>\n",
              "      <td>267628.550329</td>\n",
              "      <td>дополнительное образование</td>\n",
              "    </tr>\n",
              "    <tr>\n",
              "      <th>4</th>\n",
              "      <td>0</td>\n",
              "      <td>340266.072047</td>\n",
              "      <td>53</td>\n",
              "      <td>среднее</td>\n",
              "      <td>1</td>\n",
              "      <td>гражданский брак</td>\n",
              "      <td>1</td>\n",
              "      <td>F</td>\n",
              "      <td>пенсионер</td>\n",
              "      <td>0</td>\n",
              "      <td>158616.077870</td>\n",
              "      <td>сыграть свадьбу</td>\n",
              "    </tr>\n",
              "    <tr>\n",
              "      <th>5</th>\n",
              "      <td>0</td>\n",
              "      <td>-926.185831</td>\n",
              "      <td>27</td>\n",
              "      <td>высшее</td>\n",
              "      <td>0</td>\n",
              "      <td>гражданский брак</td>\n",
              "      <td>1</td>\n",
              "      <td>M</td>\n",
              "      <td>компаньон</td>\n",
              "      <td>0</td>\n",
              "      <td>255763.565419</td>\n",
              "      <td>покупка жилья</td>\n",
              "    </tr>\n",
              "    <tr>\n",
              "      <th>6</th>\n",
              "      <td>0</td>\n",
              "      <td>-2879.202052</td>\n",
              "      <td>43</td>\n",
              "      <td>высшее</td>\n",
              "      <td>0</td>\n",
              "      <td>женат / замужем</td>\n",
              "      <td>0</td>\n",
              "      <td>F</td>\n",
              "      <td>компаньон</td>\n",
              "      <td>0</td>\n",
              "      <td>240525.971920</td>\n",
              "      <td>операции с жильем</td>\n",
              "    </tr>\n",
              "    <tr>\n",
              "      <th>7</th>\n",
              "      <td>0</td>\n",
              "      <td>-152.779569</td>\n",
              "      <td>50</td>\n",
              "      <td>СРЕДНЕЕ</td>\n",
              "      <td>1</td>\n",
              "      <td>женат / замужем</td>\n",
              "      <td>0</td>\n",
              "      <td>M</td>\n",
              "      <td>сотрудник</td>\n",
              "      <td>0</td>\n",
              "      <td>135823.934197</td>\n",
              "      <td>образование</td>\n",
              "    </tr>\n",
              "    <tr>\n",
              "      <th>8</th>\n",
              "      <td>2</td>\n",
              "      <td>-6929.865299</td>\n",
              "      <td>35</td>\n",
              "      <td>ВЫСШЕЕ</td>\n",
              "      <td>0</td>\n",
              "      <td>гражданский брак</td>\n",
              "      <td>1</td>\n",
              "      <td>F</td>\n",
              "      <td>сотрудник</td>\n",
              "      <td>0</td>\n",
              "      <td>95856.832424</td>\n",
              "      <td>на проведение свадьбы</td>\n",
              "    </tr>\n",
              "    <tr>\n",
              "      <th>9</th>\n",
              "      <td>0</td>\n",
              "      <td>-2188.756445</td>\n",
              "      <td>41</td>\n",
              "      <td>среднее</td>\n",
              "      <td>1</td>\n",
              "      <td>женат / замужем</td>\n",
              "      <td>0</td>\n",
              "      <td>M</td>\n",
              "      <td>сотрудник</td>\n",
              "      <td>0</td>\n",
              "      <td>144425.938277</td>\n",
              "      <td>покупка жилья для семьи</td>\n",
              "    </tr>\n",
              "    <tr>\n",
              "      <th>10</th>\n",
              "      <td>2</td>\n",
              "      <td>-4171.483647</td>\n",
              "      <td>36</td>\n",
              "      <td>высшее</td>\n",
              "      <td>0</td>\n",
              "      <td>женат / замужем</td>\n",
              "      <td>0</td>\n",
              "      <td>M</td>\n",
              "      <td>компаньон</td>\n",
              "      <td>0</td>\n",
              "      <td>113943.491460</td>\n",
              "      <td>покупка недвижимости</td>\n",
              "    </tr>\n",
              "    <tr>\n",
              "      <th>11</th>\n",
              "      <td>0</td>\n",
              "      <td>-792.701887</td>\n",
              "      <td>40</td>\n",
              "      <td>среднее</td>\n",
              "      <td>1</td>\n",
              "      <td>женат / замужем</td>\n",
              "      <td>0</td>\n",
              "      <td>F</td>\n",
              "      <td>сотрудник</td>\n",
              "      <td>0</td>\n",
              "      <td>77069.234271</td>\n",
              "      <td>покупка коммерческой недвижимости</td>\n",
              "    </tr>\n",
              "    <tr>\n",
              "      <th>12</th>\n",
              "      <td>0</td>\n",
              "      <td>NaN</td>\n",
              "      <td>65</td>\n",
              "      <td>среднее</td>\n",
              "      <td>1</td>\n",
              "      <td>гражданский брак</td>\n",
              "      <td>1</td>\n",
              "      <td>M</td>\n",
              "      <td>пенсионер</td>\n",
              "      <td>0</td>\n",
              "      <td>NaN</td>\n",
              "      <td>сыграть свадьбу</td>\n",
              "    </tr>\n",
              "    <tr>\n",
              "      <th>13</th>\n",
              "      <td>0</td>\n",
              "      <td>-1846.641941</td>\n",
              "      <td>54</td>\n",
              "      <td>неоконченное высшее</td>\n",
              "      <td>2</td>\n",
              "      <td>женат / замужем</td>\n",
              "      <td>0</td>\n",
              "      <td>F</td>\n",
              "      <td>сотрудник</td>\n",
              "      <td>0</td>\n",
              "      <td>130458.228857</td>\n",
              "      <td>приобретение автомобиля</td>\n",
              "    </tr>\n",
              "    <tr>\n",
              "      <th>14</th>\n",
              "      <td>0</td>\n",
              "      <td>-1844.956182</td>\n",
              "      <td>56</td>\n",
              "      <td>высшее</td>\n",
              "      <td>0</td>\n",
              "      <td>гражданский брак</td>\n",
              "      <td>1</td>\n",
              "      <td>F</td>\n",
              "      <td>компаньон</td>\n",
              "      <td>1</td>\n",
              "      <td>165127.911772</td>\n",
              "      <td>покупка жилой недвижимости</td>\n",
              "    </tr>\n",
              "    <tr>\n",
              "      <th>15</th>\n",
              "      <td>1</td>\n",
              "      <td>-972.364419</td>\n",
              "      <td>26</td>\n",
              "      <td>среднее</td>\n",
              "      <td>1</td>\n",
              "      <td>женат / замужем</td>\n",
              "      <td>0</td>\n",
              "      <td>F</td>\n",
              "      <td>сотрудник</td>\n",
              "      <td>0</td>\n",
              "      <td>116820.904450</td>\n",
              "      <td>строительство собственной недвижимости</td>\n",
              "    </tr>\n",
              "    <tr>\n",
              "      <th>16</th>\n",
              "      <td>0</td>\n",
              "      <td>-1719.934226</td>\n",
              "      <td>35</td>\n",
              "      <td>среднее</td>\n",
              "      <td>1</td>\n",
              "      <td>женат / замужем</td>\n",
              "      <td>0</td>\n",
              "      <td>F</td>\n",
              "      <td>сотрудник</td>\n",
              "      <td>0</td>\n",
              "      <td>289202.704229</td>\n",
              "      <td>недвижимость</td>\n",
              "    </tr>\n",
              "    <tr>\n",
              "      <th>17</th>\n",
              "      <td>0</td>\n",
              "      <td>-2369.999720</td>\n",
              "      <td>33</td>\n",
              "      <td>высшее</td>\n",
              "      <td>0</td>\n",
              "      <td>гражданский брак</td>\n",
              "      <td>1</td>\n",
              "      <td>M</td>\n",
              "      <td>сотрудник</td>\n",
              "      <td>0</td>\n",
              "      <td>90410.586745</td>\n",
              "      <td>строительство недвижимости</td>\n",
              "    </tr>\n",
              "    <tr>\n",
              "      <th>18</th>\n",
              "      <td>0</td>\n",
              "      <td>400281.136913</td>\n",
              "      <td>53</td>\n",
              "      <td>среднее</td>\n",
              "      <td>1</td>\n",
              "      <td>вдовец / вдова</td>\n",
              "      <td>2</td>\n",
              "      <td>F</td>\n",
              "      <td>пенсионер</td>\n",
              "      <td>0</td>\n",
              "      <td>56823.777243</td>\n",
              "      <td>на покупку подержанного автомобиля</td>\n",
              "    </tr>\n",
              "    <tr>\n",
              "      <th>19</th>\n",
              "      <td>0</td>\n",
              "      <td>-10038.818549</td>\n",
              "      <td>48</td>\n",
              "      <td>СРЕДНЕЕ</td>\n",
              "      <td>1</td>\n",
              "      <td>в разводе</td>\n",
              "      <td>3</td>\n",
              "      <td>F</td>\n",
              "      <td>сотрудник</td>\n",
              "      <td>0</td>\n",
              "      <td>242831.107982</td>\n",
              "      <td>на покупку своего автомобиля</td>\n",
              "    </tr>\n",
              "  </tbody>\n",
              "</table>\n",
              "</div>\n",
              "    <div class=\"colab-df-buttons\">\n",
              "\n",
              "  <div class=\"colab-df-container\">\n",
              "    <button class=\"colab-df-convert\" onclick=\"convertToInteractive('df-a43e3175-53e6-4b41-b3b7-3c79fb2300ae')\"\n",
              "            title=\"Convert this dataframe to an interactive table.\"\n",
              "            style=\"display:none;\">\n",
              "\n",
              "  <svg xmlns=\"http://www.w3.org/2000/svg\" height=\"24px\" viewBox=\"0 -960 960 960\">\n",
              "    <path d=\"M120-120v-720h720v720H120Zm60-500h600v-160H180v160Zm220 220h160v-160H400v160Zm0 220h160v-160H400v160ZM180-400h160v-160H180v160Zm440 0h160v-160H620v160ZM180-180h160v-160H180v160Zm440 0h160v-160H620v160Z\"/>\n",
              "  </svg>\n",
              "    </button>\n",
              "\n",
              "  <style>\n",
              "    .colab-df-container {\n",
              "      display:flex;\n",
              "      gap: 12px;\n",
              "    }\n",
              "\n",
              "    .colab-df-convert {\n",
              "      background-color: #E8F0FE;\n",
              "      border: none;\n",
              "      border-radius: 50%;\n",
              "      cursor: pointer;\n",
              "      display: none;\n",
              "      fill: #1967D2;\n",
              "      height: 32px;\n",
              "      padding: 0 0 0 0;\n",
              "      width: 32px;\n",
              "    }\n",
              "\n",
              "    .colab-df-convert:hover {\n",
              "      background-color: #E2EBFA;\n",
              "      box-shadow: 0px 1px 2px rgba(60, 64, 67, 0.3), 0px 1px 3px 1px rgba(60, 64, 67, 0.15);\n",
              "      fill: #174EA6;\n",
              "    }\n",
              "\n",
              "    .colab-df-buttons div {\n",
              "      margin-bottom: 4px;\n",
              "    }\n",
              "\n",
              "    [theme=dark] .colab-df-convert {\n",
              "      background-color: #3B4455;\n",
              "      fill: #D2E3FC;\n",
              "    }\n",
              "\n",
              "    [theme=dark] .colab-df-convert:hover {\n",
              "      background-color: #434B5C;\n",
              "      box-shadow: 0px 1px 3px 1px rgba(0, 0, 0, 0.15);\n",
              "      filter: drop-shadow(0px 1px 2px rgba(0, 0, 0, 0.3));\n",
              "      fill: #FFFFFF;\n",
              "    }\n",
              "  </style>\n",
              "\n",
              "    <script>\n",
              "      const buttonEl =\n",
              "        document.querySelector('#df-a43e3175-53e6-4b41-b3b7-3c79fb2300ae button.colab-df-convert');\n",
              "      buttonEl.style.display =\n",
              "        google.colab.kernel.accessAllowed ? 'block' : 'none';\n",
              "\n",
              "      async function convertToInteractive(key) {\n",
              "        const element = document.querySelector('#df-a43e3175-53e6-4b41-b3b7-3c79fb2300ae');\n",
              "        const dataTable =\n",
              "          await google.colab.kernel.invokeFunction('convertToInteractive',\n",
              "                                                    [key], {});\n",
              "        if (!dataTable) return;\n",
              "\n",
              "        const docLinkHtml = 'Like what you see? Visit the ' +\n",
              "          '<a target=\"_blank\" href=https://colab.research.google.com/notebooks/data_table.ipynb>data table notebook</a>'\n",
              "          + ' to learn more about interactive tables.';\n",
              "        element.innerHTML = '';\n",
              "        dataTable['output_type'] = 'display_data';\n",
              "        await google.colab.output.renderOutput(dataTable, element);\n",
              "        const docLink = document.createElement('div');\n",
              "        docLink.innerHTML = docLinkHtml;\n",
              "        element.appendChild(docLink);\n",
              "      }\n",
              "    </script>\n",
              "  </div>\n",
              "\n",
              "\n",
              "<div id=\"df-4676c5d2-aaaf-4f8e-a5ac-7a942ba3e263\">\n",
              "  <button class=\"colab-df-quickchart\" onclick=\"quickchart('df-4676c5d2-aaaf-4f8e-a5ac-7a942ba3e263')\"\n",
              "            title=\"Suggest charts\"\n",
              "            style=\"display:none;\">\n",
              "\n",
              "<svg xmlns=\"http://www.w3.org/2000/svg\" height=\"24px\"viewBox=\"0 0 24 24\"\n",
              "     width=\"24px\">\n",
              "    <g>\n",
              "        <path d=\"M19 3H5c-1.1 0-2 .9-2 2v14c0 1.1.9 2 2 2h14c1.1 0 2-.9 2-2V5c0-1.1-.9-2-2-2zM9 17H7v-7h2v7zm4 0h-2V7h2v10zm4 0h-2v-4h2v4z\"/>\n",
              "    </g>\n",
              "</svg>\n",
              "  </button>\n",
              "\n",
              "<style>\n",
              "  .colab-df-quickchart {\n",
              "      --bg-color: #E8F0FE;\n",
              "      --fill-color: #1967D2;\n",
              "      --hover-bg-color: #E2EBFA;\n",
              "      --hover-fill-color: #174EA6;\n",
              "      --disabled-fill-color: #AAA;\n",
              "      --disabled-bg-color: #DDD;\n",
              "  }\n",
              "\n",
              "  [theme=dark] .colab-df-quickchart {\n",
              "      --bg-color: #3B4455;\n",
              "      --fill-color: #D2E3FC;\n",
              "      --hover-bg-color: #434B5C;\n",
              "      --hover-fill-color: #FFFFFF;\n",
              "      --disabled-bg-color: #3B4455;\n",
              "      --disabled-fill-color: #666;\n",
              "  }\n",
              "\n",
              "  .colab-df-quickchart {\n",
              "    background-color: var(--bg-color);\n",
              "    border: none;\n",
              "    border-radius: 50%;\n",
              "    cursor: pointer;\n",
              "    display: none;\n",
              "    fill: var(--fill-color);\n",
              "    height: 32px;\n",
              "    padding: 0;\n",
              "    width: 32px;\n",
              "  }\n",
              "\n",
              "  .colab-df-quickchart:hover {\n",
              "    background-color: var(--hover-bg-color);\n",
              "    box-shadow: 0 1px 2px rgba(60, 64, 67, 0.3), 0 1px 3px 1px rgba(60, 64, 67, 0.15);\n",
              "    fill: var(--button-hover-fill-color);\n",
              "  }\n",
              "\n",
              "  .colab-df-quickchart-complete:disabled,\n",
              "  .colab-df-quickchart-complete:disabled:hover {\n",
              "    background-color: var(--disabled-bg-color);\n",
              "    fill: var(--disabled-fill-color);\n",
              "    box-shadow: none;\n",
              "  }\n",
              "\n",
              "  .colab-df-spinner {\n",
              "    border: 2px solid var(--fill-color);\n",
              "    border-color: transparent;\n",
              "    border-bottom-color: var(--fill-color);\n",
              "    animation:\n",
              "      spin 1s steps(1) infinite;\n",
              "  }\n",
              "\n",
              "  @keyframes spin {\n",
              "    0% {\n",
              "      border-color: transparent;\n",
              "      border-bottom-color: var(--fill-color);\n",
              "      border-left-color: var(--fill-color);\n",
              "    }\n",
              "    20% {\n",
              "      border-color: transparent;\n",
              "      border-left-color: var(--fill-color);\n",
              "      border-top-color: var(--fill-color);\n",
              "    }\n",
              "    30% {\n",
              "      border-color: transparent;\n",
              "      border-left-color: var(--fill-color);\n",
              "      border-top-color: var(--fill-color);\n",
              "      border-right-color: var(--fill-color);\n",
              "    }\n",
              "    40% {\n",
              "      border-color: transparent;\n",
              "      border-right-color: var(--fill-color);\n",
              "      border-top-color: var(--fill-color);\n",
              "    }\n",
              "    60% {\n",
              "      border-color: transparent;\n",
              "      border-right-color: var(--fill-color);\n",
              "    }\n",
              "    80% {\n",
              "      border-color: transparent;\n",
              "      border-right-color: var(--fill-color);\n",
              "      border-bottom-color: var(--fill-color);\n",
              "    }\n",
              "    90% {\n",
              "      border-color: transparent;\n",
              "      border-bottom-color: var(--fill-color);\n",
              "    }\n",
              "  }\n",
              "</style>\n",
              "\n",
              "  <script>\n",
              "    async function quickchart(key) {\n",
              "      const quickchartButtonEl =\n",
              "        document.querySelector('#' + key + ' button');\n",
              "      quickchartButtonEl.disabled = true;  // To prevent multiple clicks.\n",
              "      quickchartButtonEl.classList.add('colab-df-spinner');\n",
              "      try {\n",
              "        const charts = await google.colab.kernel.invokeFunction(\n",
              "            'suggestCharts', [key], {});\n",
              "      } catch (error) {\n",
              "        console.error('Error during call to suggestCharts:', error);\n",
              "      }\n",
              "      quickchartButtonEl.classList.remove('colab-df-spinner');\n",
              "      quickchartButtonEl.classList.add('colab-df-quickchart-complete');\n",
              "    }\n",
              "    (() => {\n",
              "      let quickchartButtonEl =\n",
              "        document.querySelector('#df-4676c5d2-aaaf-4f8e-a5ac-7a942ba3e263 button');\n",
              "      quickchartButtonEl.style.display =\n",
              "        google.colab.kernel.accessAllowed ? 'block' : 'none';\n",
              "    })();\n",
              "  </script>\n",
              "</div>\n",
              "    </div>\n",
              "  </div>\n"
            ],
            "application/vnd.google.colaboratory.intrinsic+json": {
              "type": "dataframe",
              "variable_name": "data",
              "summary": "{\n  \"name\": \"data\",\n  \"rows\": 21525,\n  \"fields\": [\n    {\n      \"column\": \"children\",\n      \"properties\": {\n        \"dtype\": \"number\",\n        \"std\": 1,\n        \"min\": -1,\n        \"max\": 20,\n        \"num_unique_values\": 8,\n        \"samples\": [\n          0,\n          4,\n          1\n        ],\n        \"semantic_type\": \"\",\n        \"description\": \"\"\n      }\n    },\n    {\n      \"column\": \"days_employed\",\n      \"properties\": {\n        \"dtype\": \"number\",\n        \"std\": 140827.31197431733,\n        \"min\": -18388.949900568383,\n        \"max\": 401755.40047533,\n        \"num_unique_values\": 19351,\n        \"samples\": [\n          -4144.711271868319,\n          -1963.4835351775944,\n          -106.69195506879056\n        ],\n        \"semantic_type\": \"\",\n        \"description\": \"\"\n      }\n    },\n    {\n      \"column\": \"dob_years\",\n      \"properties\": {\n        \"dtype\": \"number\",\n        \"std\": 12,\n        \"min\": 0,\n        \"max\": 75,\n        \"num_unique_values\": 58,\n        \"samples\": [\n          42,\n          27,\n          64\n        ],\n        \"semantic_type\": \"\",\n        \"description\": \"\"\n      }\n    },\n    {\n      \"column\": \"education\",\n      \"properties\": {\n        \"dtype\": \"category\",\n        \"num_unique_values\": 15,\n        \"samples\": [\n          \"\\u041d\\u0435\\u043e\\u043a\\u043e\\u043d\\u0447\\u0435\\u043d\\u043d\\u043e\\u0435 \\u0432\\u044b\\u0441\\u0448\\u0435\\u0435\",\n          \"\\u041d\\u0430\\u0447\\u0430\\u043b\\u044c\\u043d\\u043e\\u0435\",\n          \"\\u0432\\u044b\\u0441\\u0448\\u0435\\u0435\"\n        ],\n        \"semantic_type\": \"\",\n        \"description\": \"\"\n      }\n    },\n    {\n      \"column\": \"education_id\",\n      \"properties\": {\n        \"dtype\": \"number\",\n        \"std\": 0,\n        \"min\": 0,\n        \"max\": 4,\n        \"num_unique_values\": 5,\n        \"samples\": [\n          1,\n          4,\n          2\n        ],\n        \"semantic_type\": \"\",\n        \"description\": \"\"\n      }\n    },\n    {\n      \"column\": \"family_status\",\n      \"properties\": {\n        \"dtype\": \"category\",\n        \"num_unique_values\": 5,\n        \"samples\": [\n          \"\\u0433\\u0440\\u0430\\u0436\\u0434\\u0430\\u043d\\u0441\\u043a\\u0438\\u0439 \\u0431\\u0440\\u0430\\u043a\",\n          \"\\u041d\\u0435 \\u0436\\u0435\\u043d\\u0430\\u0442 / \\u043d\\u0435 \\u0437\\u0430\\u043c\\u0443\\u0436\\u0435\\u043c\",\n          \"\\u0432\\u0434\\u043e\\u0432\\u0435\\u0446 / \\u0432\\u0434\\u043e\\u0432\\u0430\"\n        ],\n        \"semantic_type\": \"\",\n        \"description\": \"\"\n      }\n    },\n    {\n      \"column\": \"family_status_id\",\n      \"properties\": {\n        \"dtype\": \"number\",\n        \"std\": 1,\n        \"min\": 0,\n        \"max\": 4,\n        \"num_unique_values\": 5,\n        \"samples\": [\n          1,\n          4,\n          2\n        ],\n        \"semantic_type\": \"\",\n        \"description\": \"\"\n      }\n    },\n    {\n      \"column\": \"gender\",\n      \"properties\": {\n        \"dtype\": \"category\",\n        \"num_unique_values\": 3,\n        \"samples\": [\n          \"F\",\n          \"M\",\n          \"XNA\"\n        ],\n        \"semantic_type\": \"\",\n        \"description\": \"\"\n      }\n    },\n    {\n      \"column\": \"income_type\",\n      \"properties\": {\n        \"dtype\": \"category\",\n        \"num_unique_values\": 8,\n        \"samples\": [\n          \"\\u043f\\u0435\\u043d\\u0441\\u0438\\u043e\\u043d\\u0435\\u0440\",\n          \"\\u043f\\u0440\\u0435\\u0434\\u043f\\u0440\\u0438\\u043d\\u0438\\u043c\\u0430\\u0442\\u0435\\u043b\\u044c\",\n          \"\\u0441\\u043e\\u0442\\u0440\\u0443\\u0434\\u043d\\u0438\\u043a\"\n        ],\n        \"semantic_type\": \"\",\n        \"description\": \"\"\n      }\n    },\n    {\n      \"column\": \"debt\",\n      \"properties\": {\n        \"dtype\": \"number\",\n        \"std\": 0,\n        \"min\": 0,\n        \"max\": 1,\n        \"num_unique_values\": 2,\n        \"samples\": [\n          1,\n          0\n        ],\n        \"semantic_type\": \"\",\n        \"description\": \"\"\n      }\n    },\n    {\n      \"column\": \"total_income\",\n      \"properties\": {\n        \"dtype\": \"number\",\n        \"std\": 102971.56644797779,\n        \"min\": 20667.26379327158,\n        \"max\": 2265604.028722744,\n        \"num_unique_values\": 19351,\n        \"samples\": [\n          264985.90849759005,\n          145521.97728763806\n        ],\n        \"semantic_type\": \"\",\n        \"description\": \"\"\n      }\n    },\n    {\n      \"column\": \"purpose\",\n      \"properties\": {\n        \"dtype\": \"category\",\n        \"num_unique_values\": 38,\n        \"samples\": [\n          \"\\u0432\\u044b\\u0441\\u0448\\u0435\\u0435 \\u043e\\u0431\\u0440\\u0430\\u0437\\u043e\\u0432\\u0430\\u043d\\u0438\\u0435\",\n          \"\\u0440\\u0435\\u043c\\u043e\\u043d\\u0442 \\u0436\\u0438\\u043b\\u044c\\u044e\"\n        ],\n        \"semantic_type\": \"\",\n        \"description\": \"\"\n      }\n    }\n  ]\n}"
            }
          },
          "metadata": {},
          "execution_count": 2
        }
      ],
      "source": [
        "data.head(20)"
      ]
    },
    {
      "cell_type": "markdown",
      "id": "0ed8f27f",
      "metadata": {
        "deletable": false,
        "editable": false,
        "id": "0ed8f27f"
      },
      "source": [
        "Выведем основную информацию о датафрейме с помощью метода `info()`"
      ]
    },
    {
      "cell_type": "code",
      "execution_count": 3,
      "id": "ab3f863b",
      "metadata": {
        "deletable": false,
        "id": "ab3f863b",
        "outputId": "d3bb1d81-2ee5-441d-a994-067c911b9fef",
        "colab": {
          "base_uri": "https://localhost:8080/"
        }
      },
      "outputs": [
        {
          "output_type": "stream",
          "name": "stdout",
          "text": [
            "<class 'pandas.core.frame.DataFrame'>\n",
            "RangeIndex: 21525 entries, 0 to 21524\n",
            "Data columns (total 12 columns):\n",
            " #   Column            Non-Null Count  Dtype  \n",
            "---  ------            --------------  -----  \n",
            " 0   children          21525 non-null  int64  \n",
            " 1   days_employed     19351 non-null  float64\n",
            " 2   dob_years         21525 non-null  int64  \n",
            " 3   education         21525 non-null  object \n",
            " 4   education_id      21525 non-null  int64  \n",
            " 5   family_status     21525 non-null  object \n",
            " 6   family_status_id  21525 non-null  int64  \n",
            " 7   gender            21525 non-null  object \n",
            " 8   income_type       21525 non-null  object \n",
            " 9   debt              21525 non-null  int64  \n",
            " 10  total_income      19351 non-null  float64\n",
            " 11  purpose           21525 non-null  object \n",
            "dtypes: float64(2), int64(5), object(5)\n",
            "memory usage: 2.0+ MB\n"
          ]
        }
      ],
      "source": [
        "data.info()"
      ]
    },
    {
      "cell_type": "markdown",
      "id": "60e3e22d",
      "metadata": {
        "deletable": false,
        "editable": false,
        "id": "60e3e22d"
      },
      "source": [
        "## Предобработка данных"
      ]
    },
    {
      "cell_type": "markdown",
      "id": "03dc170c",
      "metadata": {
        "deletable": false,
        "editable": false,
        "id": "03dc170c"
      },
      "source": [
        "### Удаление пропусков"
      ]
    },
    {
      "cell_type": "markdown",
      "id": "a4f54eef",
      "metadata": {
        "deletable": false,
        "editable": false,
        "id": "a4f54eef"
      },
      "source": [
        "Выведем количество пропущенных значений для каждого столбца. Используем комбинацию двух методов."
      ]
    },
    {
      "cell_type": "code",
      "execution_count": 4,
      "id": "2dc372b2",
      "metadata": {
        "deletable": false,
        "id": "2dc372b2",
        "outputId": "8b2e1dda-c107-4759-92d2-b84e3039f6f4",
        "colab": {
          "base_uri": "https://localhost:8080/",
          "height": 460
        }
      },
      "outputs": [
        {
          "output_type": "execute_result",
          "data": {
            "text/plain": [
              "children               0\n",
              "days_employed       2174\n",
              "dob_years              0\n",
              "education              0\n",
              "education_id           0\n",
              "family_status          0\n",
              "family_status_id       0\n",
              "gender                 0\n",
              "income_type            0\n",
              "debt                   0\n",
              "total_income        2174\n",
              "purpose                0\n",
              "dtype: int64"
            ],
            "text/html": [
              "<div>\n",
              "<style scoped>\n",
              "    .dataframe tbody tr th:only-of-type {\n",
              "        vertical-align: middle;\n",
              "    }\n",
              "\n",
              "    .dataframe tbody tr th {\n",
              "        vertical-align: top;\n",
              "    }\n",
              "\n",
              "    .dataframe thead th {\n",
              "        text-align: right;\n",
              "    }\n",
              "</style>\n",
              "<table border=\"1\" class=\"dataframe\">\n",
              "  <thead>\n",
              "    <tr style=\"text-align: right;\">\n",
              "      <th></th>\n",
              "      <th>0</th>\n",
              "    </tr>\n",
              "  </thead>\n",
              "  <tbody>\n",
              "    <tr>\n",
              "      <th>children</th>\n",
              "      <td>0</td>\n",
              "    </tr>\n",
              "    <tr>\n",
              "      <th>days_employed</th>\n",
              "      <td>2174</td>\n",
              "    </tr>\n",
              "    <tr>\n",
              "      <th>dob_years</th>\n",
              "      <td>0</td>\n",
              "    </tr>\n",
              "    <tr>\n",
              "      <th>education</th>\n",
              "      <td>0</td>\n",
              "    </tr>\n",
              "    <tr>\n",
              "      <th>education_id</th>\n",
              "      <td>0</td>\n",
              "    </tr>\n",
              "    <tr>\n",
              "      <th>family_status</th>\n",
              "      <td>0</td>\n",
              "    </tr>\n",
              "    <tr>\n",
              "      <th>family_status_id</th>\n",
              "      <td>0</td>\n",
              "    </tr>\n",
              "    <tr>\n",
              "      <th>gender</th>\n",
              "      <td>0</td>\n",
              "    </tr>\n",
              "    <tr>\n",
              "      <th>income_type</th>\n",
              "      <td>0</td>\n",
              "    </tr>\n",
              "    <tr>\n",
              "      <th>debt</th>\n",
              "      <td>0</td>\n",
              "    </tr>\n",
              "    <tr>\n",
              "      <th>total_income</th>\n",
              "      <td>2174</td>\n",
              "    </tr>\n",
              "    <tr>\n",
              "      <th>purpose</th>\n",
              "      <td>0</td>\n",
              "    </tr>\n",
              "  </tbody>\n",
              "</table>\n",
              "</div><br><label><b>dtype:</b> int64</label>"
            ]
          },
          "metadata": {},
          "execution_count": 4
        }
      ],
      "source": [
        "data.isna().sum()"
      ]
    },
    {
      "cell_type": "markdown",
      "id": "14f011b1",
      "metadata": {
        "deletable": false,
        "editable": false,
        "id": "14f011b1"
      },
      "source": [
        "В двух столбцах есть пропущенные значения. Один из них — `days_employed`. Пропуски в этом столбце обработаем на следующем этапе. Другой столбец с пропущенными значениями — `total_income` — хранит данные о доходах. На сумму дохода сильнее всего влияет тип занятости, поэтому заполнить пропуски в этом столбце нужно медианным значением по каждому типу из столбца `income_type`. Например, у человека с типом занятости `сотрудник` пропуск в столбце `total_income` должен быть заполнен медианным доходом среди всех записей с тем же типом."
      ]
    },
    {
      "cell_type": "code",
      "execution_count": 5,
      "id": "bdabfb6e",
      "metadata": {
        "deletable": false,
        "id": "bdabfb6e"
      },
      "outputs": [],
      "source": [
        "for t in data['income_type'].unique():\n",
        "    data.loc[(data['income_type'] == t) & (data['total_income'].isna()), 'total_income'] = \\\n",
        "    data.loc[(data['income_type'] == t), 'total_income'].median()"
      ]
    },
    {
      "cell_type": "markdown",
      "id": "5be34059",
      "metadata": {
        "deletable": false,
        "editable": false,
        "id": "5be34059"
      },
      "source": [
        "### Обработка аномальных значений"
      ]
    },
    {
      "cell_type": "markdown",
      "id": "a87606cb",
      "metadata": {
        "deletable": false,
        "editable": false,
        "id": "a87606cb"
      },
      "source": [
        "В данных могут встречаться артефакты (аномалии) — значения, которые не отражают действительность и появились по какой-то ошибке. таким артефактом будет отрицательное количество дней трудового стажа в столбце `days_employed`. Для реальных данных это нормально. Обработаем значения в этом столбце: заменим все отрицательные значения положительными с помощью метода `abs()`."
      ]
    },
    {
      "cell_type": "code",
      "execution_count": 6,
      "id": "020c46cc",
      "metadata": {
        "deletable": false,
        "id": "020c46cc"
      },
      "outputs": [],
      "source": [
        "data['days_employed'] = data['days_employed'].abs()"
      ]
    },
    {
      "cell_type": "markdown",
      "id": "45538a3a",
      "metadata": {
        "deletable": false,
        "editable": false,
        "id": "45538a3a"
      },
      "source": [
        "Для каждого типа занятости выведем медианное значение трудового стажа `days_employed` в днях."
      ]
    },
    {
      "cell_type": "code",
      "execution_count": 7,
      "id": "cd3e6328",
      "metadata": {
        "deletable": false,
        "id": "cd3e6328",
        "outputId": "83908527-663f-4a67-c2b3-3d5ed490c1d9",
        "colab": {
          "base_uri": "https://localhost:8080/",
          "height": 366
        }
      },
      "outputs": [
        {
          "output_type": "execute_result",
          "data": {
            "text/plain": [
              "income_type\n",
              "безработный        366413.652744\n",
              "в декрете            3296.759962\n",
              "госслужащий          2689.368353\n",
              "компаньон            1547.382223\n",
              "пенсионер          365213.306266\n",
              "предприниматель       520.848083\n",
              "сотрудник            1574.202821\n",
              "студент               578.751554\n",
              "Name: days_employed, dtype: float64"
            ],
            "text/html": [
              "<div>\n",
              "<style scoped>\n",
              "    .dataframe tbody tr th:only-of-type {\n",
              "        vertical-align: middle;\n",
              "    }\n",
              "\n",
              "    .dataframe tbody tr th {\n",
              "        vertical-align: top;\n",
              "    }\n",
              "\n",
              "    .dataframe thead th {\n",
              "        text-align: right;\n",
              "    }\n",
              "</style>\n",
              "<table border=\"1\" class=\"dataframe\">\n",
              "  <thead>\n",
              "    <tr style=\"text-align: right;\">\n",
              "      <th></th>\n",
              "      <th>days_employed</th>\n",
              "    </tr>\n",
              "    <tr>\n",
              "      <th>income_type</th>\n",
              "      <th></th>\n",
              "    </tr>\n",
              "  </thead>\n",
              "  <tbody>\n",
              "    <tr>\n",
              "      <th>безработный</th>\n",
              "      <td>366413.652744</td>\n",
              "    </tr>\n",
              "    <tr>\n",
              "      <th>в декрете</th>\n",
              "      <td>3296.759962</td>\n",
              "    </tr>\n",
              "    <tr>\n",
              "      <th>госслужащий</th>\n",
              "      <td>2689.368353</td>\n",
              "    </tr>\n",
              "    <tr>\n",
              "      <th>компаньон</th>\n",
              "      <td>1547.382223</td>\n",
              "    </tr>\n",
              "    <tr>\n",
              "      <th>пенсионер</th>\n",
              "      <td>365213.306266</td>\n",
              "    </tr>\n",
              "    <tr>\n",
              "      <th>предприниматель</th>\n",
              "      <td>520.848083</td>\n",
              "    </tr>\n",
              "    <tr>\n",
              "      <th>сотрудник</th>\n",
              "      <td>1574.202821</td>\n",
              "    </tr>\n",
              "    <tr>\n",
              "      <th>студент</th>\n",
              "      <td>578.751554</td>\n",
              "    </tr>\n",
              "  </tbody>\n",
              "</table>\n",
              "</div><br><label><b>dtype:</b> float64</label>"
            ]
          },
          "metadata": {},
          "execution_count": 7
        }
      ],
      "source": [
        "data.groupby('income_type')['days_employed'].agg('median')"
      ]
    },
    {
      "cell_type": "markdown",
      "id": "90c5f058",
      "metadata": {
        "deletable": false,
        "editable": false,
        "id": "90c5f058"
      },
      "source": [
        "У двух типов (безработные и пенсионеры) получатся аномально большие значения. Исправить такие значения сложно, поэтому оставим их как есть."
      ]
    },
    {
      "cell_type": "markdown",
      "id": "9652e50d",
      "metadata": {
        "deletable": false,
        "editable": false,
        "id": "9652e50d"
      },
      "source": [
        "Выведем перечень уникальных значений столбца `children`."
      ]
    },
    {
      "cell_type": "code",
      "execution_count": 8,
      "id": "dbb37b8e",
      "metadata": {
        "deletable": false,
        "id": "dbb37b8e",
        "outputId": "362727ed-e97a-46a3-e71a-980f03300893",
        "colab": {
          "base_uri": "https://localhost:8080/"
        }
      },
      "outputs": [
        {
          "output_type": "execute_result",
          "data": {
            "text/plain": [
              "array([ 1,  0,  3,  2, -1,  4, 20,  5])"
            ]
          },
          "metadata": {},
          "execution_count": 8
        }
      ],
      "source": [
        "data['children'].unique()"
      ]
    },
    {
      "cell_type": "markdown",
      "id": "2b8b0715",
      "metadata": {
        "deletable": false,
        "editable": false,
        "id": "2b8b0715"
      },
      "source": [
        "В столбце `children` есть два аномальных значения. Удалим строки, в которых встречаются такие аномальные значения из датафрейма `data`."
      ]
    },
    {
      "cell_type": "code",
      "execution_count": 9,
      "id": "20009df8",
      "metadata": {
        "deletable": false,
        "id": "20009df8"
      },
      "outputs": [],
      "source": [
        "data = data[(data['children'] != -1) & (data['children'] != 20)]"
      ]
    },
    {
      "cell_type": "markdown",
      "id": "8c6ac9f1",
      "metadata": {
        "deletable": false,
        "editable": false,
        "id": "8c6ac9f1"
      },
      "source": [
        "Ещё раз выведем перечень уникальных значений столбца `children`, чтобы убедиться, что артефакты удалены."
      ]
    },
    {
      "cell_type": "code",
      "execution_count": 10,
      "id": "07337b81",
      "metadata": {
        "deletable": false,
        "id": "07337b81",
        "outputId": "33770423-b685-43a4-cab4-c19a1d2fff22",
        "colab": {
          "base_uri": "https://localhost:8080/"
        }
      },
      "outputs": [
        {
          "output_type": "execute_result",
          "data": {
            "text/plain": [
              "array([1, 0, 3, 2, 4, 5])"
            ]
          },
          "metadata": {},
          "execution_count": 10
        }
      ],
      "source": [
        "data['children'].unique()"
      ]
    },
    {
      "cell_type": "markdown",
      "id": "ee3f52d4",
      "metadata": {
        "deletable": false,
        "editable": false,
        "id": "ee3f52d4"
      },
      "source": [
        "### Удаление пропусков (продолжение)"
      ]
    },
    {
      "cell_type": "markdown",
      "id": "a700b0e4",
      "metadata": {
        "deletable": false,
        "editable": false,
        "id": "a700b0e4"
      },
      "source": [
        "Заполним пропуски в столбце `days_employed` медианными значениями по каждого типа занятости `income_type`."
      ]
    },
    {
      "cell_type": "code",
      "execution_count": 11,
      "id": "61946b83",
      "metadata": {
        "deletable": false,
        "id": "61946b83"
      },
      "outputs": [],
      "source": [
        "for t in data['income_type'].unique():\n",
        "    data.loc[(data['income_type'] == t) & (data['days_employed'].isna()), 'days_employed'] = \\\n",
        "    data.loc[(data['income_type'] == t), 'days_employed'].median()"
      ]
    },
    {
      "cell_type": "markdown",
      "id": "550dcd9b",
      "metadata": {
        "deletable": false,
        "editable": false,
        "id": "550dcd9b"
      },
      "source": [
        "Убедимся, что все пропуски заполнены. Проверим себя и ещё раз выведем количество пропущенных значений для каждого столбца с помощью двух методов."
      ]
    },
    {
      "cell_type": "code",
      "execution_count": 12,
      "id": "937c7014",
      "metadata": {
        "deletable": false,
        "id": "937c7014",
        "outputId": "6c9bf884-3959-4676-9de7-8fab547f75eb",
        "colab": {
          "base_uri": "https://localhost:8080/",
          "height": 460
        }
      },
      "outputs": [
        {
          "output_type": "execute_result",
          "data": {
            "text/plain": [
              "children            0\n",
              "days_employed       0\n",
              "dob_years           0\n",
              "education           0\n",
              "education_id        0\n",
              "family_status       0\n",
              "family_status_id    0\n",
              "gender              0\n",
              "income_type         0\n",
              "debt                0\n",
              "total_income        0\n",
              "purpose             0\n",
              "dtype: int64"
            ],
            "text/html": [
              "<div>\n",
              "<style scoped>\n",
              "    .dataframe tbody tr th:only-of-type {\n",
              "        vertical-align: middle;\n",
              "    }\n",
              "\n",
              "    .dataframe tbody tr th {\n",
              "        vertical-align: top;\n",
              "    }\n",
              "\n",
              "    .dataframe thead th {\n",
              "        text-align: right;\n",
              "    }\n",
              "</style>\n",
              "<table border=\"1\" class=\"dataframe\">\n",
              "  <thead>\n",
              "    <tr style=\"text-align: right;\">\n",
              "      <th></th>\n",
              "      <th>0</th>\n",
              "    </tr>\n",
              "  </thead>\n",
              "  <tbody>\n",
              "    <tr>\n",
              "      <th>children</th>\n",
              "      <td>0</td>\n",
              "    </tr>\n",
              "    <tr>\n",
              "      <th>days_employed</th>\n",
              "      <td>0</td>\n",
              "    </tr>\n",
              "    <tr>\n",
              "      <th>dob_years</th>\n",
              "      <td>0</td>\n",
              "    </tr>\n",
              "    <tr>\n",
              "      <th>education</th>\n",
              "      <td>0</td>\n",
              "    </tr>\n",
              "    <tr>\n",
              "      <th>education_id</th>\n",
              "      <td>0</td>\n",
              "    </tr>\n",
              "    <tr>\n",
              "      <th>family_status</th>\n",
              "      <td>0</td>\n",
              "    </tr>\n",
              "    <tr>\n",
              "      <th>family_status_id</th>\n",
              "      <td>0</td>\n",
              "    </tr>\n",
              "    <tr>\n",
              "      <th>gender</th>\n",
              "      <td>0</td>\n",
              "    </tr>\n",
              "    <tr>\n",
              "      <th>income_type</th>\n",
              "      <td>0</td>\n",
              "    </tr>\n",
              "    <tr>\n",
              "      <th>debt</th>\n",
              "      <td>0</td>\n",
              "    </tr>\n",
              "    <tr>\n",
              "      <th>total_income</th>\n",
              "      <td>0</td>\n",
              "    </tr>\n",
              "    <tr>\n",
              "      <th>purpose</th>\n",
              "      <td>0</td>\n",
              "    </tr>\n",
              "  </tbody>\n",
              "</table>\n",
              "</div><br><label><b>dtype:</b> int64</label>"
            ]
          },
          "metadata": {},
          "execution_count": 12
        }
      ],
      "source": [
        "data.isna().sum()"
      ]
    },
    {
      "cell_type": "markdown",
      "id": "d522e295",
      "metadata": {
        "deletable": false,
        "editable": false,
        "id": "d522e295"
      },
      "source": [
        "### Изменение типов данных"
      ]
    },
    {
      "cell_type": "markdown",
      "id": "c229c581",
      "metadata": {
        "deletable": false,
        "editable": false,
        "id": "c229c581"
      },
      "source": [
        "Заменим вещественный тип данных в столбце `total_income` на целочисленный с помощью метода `astype()`."
      ]
    },
    {
      "cell_type": "code",
      "execution_count": 13,
      "id": "31036462",
      "metadata": {
        "deletable": false,
        "id": "31036462"
      },
      "outputs": [],
      "source": [
        "data['total_income'] = data['total_income'].astype(int)"
      ]
    },
    {
      "cell_type": "markdown",
      "id": "b8e3d1d9",
      "metadata": {
        "deletable": false,
        "editable": false,
        "id": "b8e3d1d9"
      },
      "source": [
        "### Обработка дубликатов"
      ]
    },
    {
      "cell_type": "markdown",
      "id": "9be53c49",
      "metadata": {
        "deletable": false,
        "editable": false,
        "id": "9be53c49"
      },
      "source": [
        "Обработаем неявные дубликаты в столбце `education`. В этом столбце есть одни и те же значения, но записанные по-разному: с использованием заглавных и строчных букв. Приведем их к нижнему регистру."
      ]
    },
    {
      "cell_type": "code",
      "execution_count": 14,
      "id": "d89e73e1",
      "metadata": {
        "deletable": false,
        "id": "d89e73e1"
      },
      "outputs": [],
      "source": [
        "data['education'] = data['education'].str.lower()"
      ]
    },
    {
      "cell_type": "markdown",
      "id": "01d4500e",
      "metadata": {
        "deletable": false,
        "editable": false,
        "id": "01d4500e"
      },
      "source": [
        "Выведем на экран количество строк-дубликатов в данных. Если такие строки присутствуют, удалим их."
      ]
    },
    {
      "cell_type": "code",
      "execution_count": 15,
      "id": "e10efb23",
      "metadata": {
        "deletable": false,
        "id": "e10efb23",
        "outputId": "38d09276-27a0-4265-a80d-c1db8c1237e9",
        "colab": {
          "base_uri": "https://localhost:8080/"
        }
      },
      "outputs": [
        {
          "output_type": "execute_result",
          "data": {
            "text/plain": [
              "71"
            ]
          },
          "metadata": {},
          "execution_count": 15
        }
      ],
      "source": [
        "data.duplicated().sum()"
      ]
    },
    {
      "cell_type": "code",
      "execution_count": 16,
      "id": "df853f20",
      "metadata": {
        "deletable": false,
        "id": "df853f20"
      },
      "outputs": [],
      "source": [
        "data = data.drop_duplicates()"
      ]
    },
    {
      "cell_type": "markdown",
      "id": "627be38f",
      "metadata": {
        "deletable": false,
        "editable": false,
        "id": "627be38f"
      },
      "source": [
        "### Категоризация данных"
      ]
    },
    {
      "cell_type": "markdown",
      "id": "4684c3e0",
      "metadata": {
        "deletable": false,
        "editable": false,
        "id": "4684c3e0"
      },
      "source": [
        "На основании диапазонов, указанных ниже, создадим в датафрейме `data` столбец `total_income_category` с категориями:\n",
        "\n",
        "- 0–30000 — `'E'`;\n",
        "- 30001–50000 — `'D'`;\n",
        "- 50001–200000 — `'C'`;\n",
        "- 200001–1000000 — `'B'`;\n",
        "- 1000001 и выше — `'A'`.\n",
        "\n",
        "\n",
        "Используем собственную функцию с именем `categorize_income()` и метод `apply()`."
      ]
    },
    {
      "cell_type": "code",
      "execution_count": 17,
      "id": "78965238",
      "metadata": {
        "deletable": false,
        "id": "78965238"
      },
      "outputs": [],
      "source": [
        "def categorize_income(income):\n",
        "    try:\n",
        "        if 0 <= income <= 30000:\n",
        "            return 'E'\n",
        "        elif 30001 <= income <= 50000:\n",
        "            return 'D'\n",
        "        elif 50001 <= income <= 200000:\n",
        "            return 'C'\n",
        "        elif 200001 <= income <= 1000000:\n",
        "            return 'B'\n",
        "        elif income >= 1000001:\n",
        "            return 'A'\n",
        "    except:\n",
        "        pass"
      ]
    },
    {
      "cell_type": "code",
      "execution_count": 18,
      "id": "0980ada1",
      "metadata": {
        "deletable": false,
        "id": "0980ada1",
        "colab": {
          "base_uri": "https://localhost:8080/"
        },
        "outputId": "7e5f3ee6-00d7-486d-b6c2-e9ad06df119b"
      },
      "outputs": [
        {
          "output_type": "stream",
          "name": "stderr",
          "text": [
            "<ipython-input-18-0bc713f3049f>:1: SettingWithCopyWarning: \n",
            "A value is trying to be set on a copy of a slice from a DataFrame.\n",
            "Try using .loc[row_indexer,col_indexer] = value instead\n",
            "\n",
            "See the caveats in the documentation: https://pandas.pydata.org/pandas-docs/stable/user_guide/indexing.html#returning-a-view-versus-a-copy\n",
            "  data['total_income_category'] = data['total_income'].apply(categorize_income)\n"
          ]
        }
      ],
      "source": [
        "data['total_income_category'] = data['total_income'].apply(categorize_income)"
      ]
    },
    {
      "cell_type": "markdown",
      "id": "9917bba0",
      "metadata": {
        "deletable": false,
        "editable": false,
        "id": "9917bba0"
      },
      "source": [
        "Выведем на экран перечень уникальных целей взятия кредита из столбца `purpose`."
      ]
    },
    {
      "cell_type": "code",
      "execution_count": 19,
      "id": "ee07b65e",
      "metadata": {
        "deletable": false,
        "id": "ee07b65e",
        "outputId": "ceb6c83e-3208-4147-cc99-7cc74538a16c",
        "colab": {
          "base_uri": "https://localhost:8080/"
        }
      },
      "outputs": [
        {
          "output_type": "execute_result",
          "data": {
            "text/plain": [
              "array(['покупка жилья', 'приобретение автомобиля',\n",
              "       'дополнительное образование', 'сыграть свадьбу',\n",
              "       'операции с жильем', 'образование', 'на проведение свадьбы',\n",
              "       'покупка жилья для семьи', 'покупка недвижимости',\n",
              "       'покупка коммерческой недвижимости', 'покупка жилой недвижимости',\n",
              "       'строительство собственной недвижимости', 'недвижимость',\n",
              "       'строительство недвижимости', 'на покупку подержанного автомобиля',\n",
              "       'на покупку своего автомобиля',\n",
              "       'операции с коммерческой недвижимостью',\n",
              "       'строительство жилой недвижимости', 'жилье',\n",
              "       'операции со своей недвижимостью', 'автомобили',\n",
              "       'заняться образованием', 'сделка с подержанным автомобилем',\n",
              "       'получение образования', 'автомобиль', 'свадьба',\n",
              "       'получение дополнительного образования', 'покупка своего жилья',\n",
              "       'операции с недвижимостью', 'получение высшего образования',\n",
              "       'свой автомобиль', 'сделка с автомобилем',\n",
              "       'профильное образование', 'высшее образование',\n",
              "       'покупка жилья для сдачи', 'на покупку автомобиля', 'ремонт жилью',\n",
              "       'заняться высшим образованием'], dtype=object)"
            ]
          },
          "metadata": {},
          "execution_count": 19
        }
      ],
      "source": [
        "data['purpose'].unique()"
      ]
    },
    {
      "cell_type": "markdown",
      "id": "52b79d56",
      "metadata": {
        "deletable": false,
        "editable": false,
        "id": "52b79d56"
      },
      "source": [
        "Создадим функцию, которая на основании данных из столбца `purpose` сформирует новый столбец `purpose_category`, в который войдут следующие категории:\n",
        "\n",
        "- `'операции с автомобилем'`,\n",
        "- `'операции с недвижимостью'`,\n",
        "- `'проведение свадьбы'`,\n",
        "- `'получение образования'`.\n",
        "\n",
        "Используем собственную функцию с именем `categorize_purpose()` и метод `apply()`. Изучим данные в столбце `purpose` и определим, какие подстроки помогут правильно определить категорию.**"
      ]
    },
    {
      "cell_type": "code",
      "execution_count": 20,
      "id": "be41da5d",
      "metadata": {
        "deletable": false,
        "id": "be41da5d"
      },
      "outputs": [],
      "source": [
        "def categorize_purpose(row):\n",
        "    try:\n",
        "        if 'автом' in row:\n",
        "            return 'операции с автомобилем'\n",
        "        elif 'жил' in row or 'недвиж' in row:\n",
        "            return 'операции с недвижимостью'\n",
        "        elif 'свад' in row:\n",
        "            return 'проведение свадьбы'\n",
        "        elif 'образов' in row:\n",
        "            return 'получение образования'\n",
        "    except:\n",
        "        return 'нет категории'"
      ]
    },
    {
      "cell_type": "code",
      "execution_count": 21,
      "id": "94c4a19a",
      "metadata": {
        "deletable": false,
        "id": "94c4a19a"
      },
      "outputs": [],
      "source": [
        "data['purpose_category'] = data['purpose'].apply(categorize_purpose)"
      ]
    },
    {
      "cell_type": "markdown",
      "id": "3d596c34",
      "metadata": {
        "deletable": false,
        "editable": false,
        "id": "3d596c34"
      },
      "source": [
        "### Исследование данных"
      ]
    },
    {
      "cell_type": "markdown",
      "id": "a615903a",
      "metadata": {
        "id": "a615903a"
      },
      "source": [
        "#### ****Гипотезы****\n",
        "\n",
        "Для исследования влияния семейного положения и количества детей клиента на факт погашения кредита в срок можно выдвинуть несколько гипотез.\n",
        "\n",
        "***Гипотеза 1***: Клиенты, состоящие в браке, чаще погашают кредит в срок по сравнению с холостыми, разведёнными или вдовцами.\n",
        "\tСемейное положение может отражать уровень стабильности и ответственности клиента. Брак может указывать на наличие совместного бюджета и большей финансовой ответственности.\n",
        "\n",
        "***Гипотеза 2***: Клиенты с большим количеством детей имеют более низкий уровень погашения кредита в срок по сравнению с клиентами без детей или с одним ребёнком.\n",
        "\tКлиенты с несколькими детьми могут испытывать больше финансовых трудностей, чем бездетные клиенты или с одним ребенком, что может снижать вероятность погашения кредита в срок.\n",
        "    \n",
        "***Гипотеза 3***: Клиенты с более высоким уровнем дохода имеют более высокую вероятность возврата кредита в срок по сравнению с клиентами с более низким уровнем дохода по причине того, что имеют больше финансовых ресурсов для своевременного погашения кредита.\n",
        "\n",
        "    \n",
        "\n",
        "    \n",
        "\n",
        "\n"
      ]
    },
    {
      "cell_type": "markdown",
      "id": "648db036",
      "metadata": {
        "deletable": false,
        "editable": false,
        "id": "648db036"
      },
      "source": [
        "#### 3.1 Есть ли зависимость между количеством детей и возвратом кредита в срок?"
      ]
    },
    {
      "cell_type": "code",
      "execution_count": 22,
      "id": "7fcff25e",
      "metadata": {
        "deletable": false,
        "id": "7fcff25e",
        "scrolled": true,
        "colab": {
          "base_uri": "https://localhost:8080/",
          "height": 269
        },
        "outputId": "be7f264a-da98-475e-da5e-557513d0bfb8"
      },
      "outputs": [
        {
          "output_type": "display_data",
          "data": {
            "text/plain": [
              "          Всего клиентов  Кол-во должников  Доля должников, %\n",
              "children                                                     \n",
              "4                     41                 4               9.76\n",
              "2                   2052               194               9.45\n",
              "1                   4808               444               9.23\n",
              "3                    330                27               8.18\n",
              "0                  14091              1063               7.54\n",
              "5                      9                 0               0.00"
            ],
            "text/html": [
              "\n",
              "  <div id=\"df-6946bf85-74e7-4599-a4ff-d0ba305513d0\" class=\"colab-df-container\">\n",
              "    <div>\n",
              "<style scoped>\n",
              "    .dataframe tbody tr th:only-of-type {\n",
              "        vertical-align: middle;\n",
              "    }\n",
              "\n",
              "    .dataframe tbody tr th {\n",
              "        vertical-align: top;\n",
              "    }\n",
              "\n",
              "    .dataframe thead th {\n",
              "        text-align: right;\n",
              "    }\n",
              "</style>\n",
              "<table border=\"1\" class=\"dataframe\">\n",
              "  <thead>\n",
              "    <tr style=\"text-align: right;\">\n",
              "      <th></th>\n",
              "      <th>Всего клиентов</th>\n",
              "      <th>Кол-во должников</th>\n",
              "      <th>Доля должников, %</th>\n",
              "    </tr>\n",
              "    <tr>\n",
              "      <th>children</th>\n",
              "      <th></th>\n",
              "      <th></th>\n",
              "      <th></th>\n",
              "    </tr>\n",
              "  </thead>\n",
              "  <tbody>\n",
              "    <tr>\n",
              "      <th>4</th>\n",
              "      <td>41</td>\n",
              "      <td>4</td>\n",
              "      <td>9.76</td>\n",
              "    </tr>\n",
              "    <tr>\n",
              "      <th>2</th>\n",
              "      <td>2052</td>\n",
              "      <td>194</td>\n",
              "      <td>9.45</td>\n",
              "    </tr>\n",
              "    <tr>\n",
              "      <th>1</th>\n",
              "      <td>4808</td>\n",
              "      <td>444</td>\n",
              "      <td>9.23</td>\n",
              "    </tr>\n",
              "    <tr>\n",
              "      <th>3</th>\n",
              "      <td>330</td>\n",
              "      <td>27</td>\n",
              "      <td>8.18</td>\n",
              "    </tr>\n",
              "    <tr>\n",
              "      <th>0</th>\n",
              "      <td>14091</td>\n",
              "      <td>1063</td>\n",
              "      <td>7.54</td>\n",
              "    </tr>\n",
              "    <tr>\n",
              "      <th>5</th>\n",
              "      <td>9</td>\n",
              "      <td>0</td>\n",
              "      <td>0.00</td>\n",
              "    </tr>\n",
              "  </tbody>\n",
              "</table>\n",
              "</div>\n",
              "    <div class=\"colab-df-buttons\">\n",
              "\n",
              "  <div class=\"colab-df-container\">\n",
              "    <button class=\"colab-df-convert\" onclick=\"convertToInteractive('df-6946bf85-74e7-4599-a4ff-d0ba305513d0')\"\n",
              "            title=\"Convert this dataframe to an interactive table.\"\n",
              "            style=\"display:none;\">\n",
              "\n",
              "  <svg xmlns=\"http://www.w3.org/2000/svg\" height=\"24px\" viewBox=\"0 -960 960 960\">\n",
              "    <path d=\"M120-120v-720h720v720H120Zm60-500h600v-160H180v160Zm220 220h160v-160H400v160Zm0 220h160v-160H400v160ZM180-400h160v-160H180v160Zm440 0h160v-160H620v160ZM180-180h160v-160H180v160Zm440 0h160v-160H620v160Z\"/>\n",
              "  </svg>\n",
              "    </button>\n",
              "\n",
              "  <style>\n",
              "    .colab-df-container {\n",
              "      display:flex;\n",
              "      gap: 12px;\n",
              "    }\n",
              "\n",
              "    .colab-df-convert {\n",
              "      background-color: #E8F0FE;\n",
              "      border: none;\n",
              "      border-radius: 50%;\n",
              "      cursor: pointer;\n",
              "      display: none;\n",
              "      fill: #1967D2;\n",
              "      height: 32px;\n",
              "      padding: 0 0 0 0;\n",
              "      width: 32px;\n",
              "    }\n",
              "\n",
              "    .colab-df-convert:hover {\n",
              "      background-color: #E2EBFA;\n",
              "      box-shadow: 0px 1px 2px rgba(60, 64, 67, 0.3), 0px 1px 3px 1px rgba(60, 64, 67, 0.15);\n",
              "      fill: #174EA6;\n",
              "    }\n",
              "\n",
              "    .colab-df-buttons div {\n",
              "      margin-bottom: 4px;\n",
              "    }\n",
              "\n",
              "    [theme=dark] .colab-df-convert {\n",
              "      background-color: #3B4455;\n",
              "      fill: #D2E3FC;\n",
              "    }\n",
              "\n",
              "    [theme=dark] .colab-df-convert:hover {\n",
              "      background-color: #434B5C;\n",
              "      box-shadow: 0px 1px 3px 1px rgba(0, 0, 0, 0.15);\n",
              "      filter: drop-shadow(0px 1px 2px rgba(0, 0, 0, 0.3));\n",
              "      fill: #FFFFFF;\n",
              "    }\n",
              "  </style>\n",
              "\n",
              "    <script>\n",
              "      const buttonEl =\n",
              "        document.querySelector('#df-6946bf85-74e7-4599-a4ff-d0ba305513d0 button.colab-df-convert');\n",
              "      buttonEl.style.display =\n",
              "        google.colab.kernel.accessAllowed ? 'block' : 'none';\n",
              "\n",
              "      async function convertToInteractive(key) {\n",
              "        const element = document.querySelector('#df-6946bf85-74e7-4599-a4ff-d0ba305513d0');\n",
              "        const dataTable =\n",
              "          await google.colab.kernel.invokeFunction('convertToInteractive',\n",
              "                                                    [key], {});\n",
              "        if (!dataTable) return;\n",
              "\n",
              "        const docLinkHtml = 'Like what you see? Visit the ' +\n",
              "          '<a target=\"_blank\" href=https://colab.research.google.com/notebooks/data_table.ipynb>data table notebook</a>'\n",
              "          + ' to learn more about interactive tables.';\n",
              "        element.innerHTML = '';\n",
              "        dataTable['output_type'] = 'display_data';\n",
              "        await google.colab.output.renderOutput(dataTable, element);\n",
              "        const docLink = document.createElement('div');\n",
              "        docLink.innerHTML = docLinkHtml;\n",
              "        element.appendChild(docLink);\n",
              "      }\n",
              "    </script>\n",
              "  </div>\n",
              "\n",
              "\n",
              "<div id=\"df-f254c72f-5a09-49e7-b591-e5143c718c8e\">\n",
              "  <button class=\"colab-df-quickchart\" onclick=\"quickchart('df-f254c72f-5a09-49e7-b591-e5143c718c8e')\"\n",
              "            title=\"Suggest charts\"\n",
              "            style=\"display:none;\">\n",
              "\n",
              "<svg xmlns=\"http://www.w3.org/2000/svg\" height=\"24px\"viewBox=\"0 0 24 24\"\n",
              "     width=\"24px\">\n",
              "    <g>\n",
              "        <path d=\"M19 3H5c-1.1 0-2 .9-2 2v14c0 1.1.9 2 2 2h14c1.1 0 2-.9 2-2V5c0-1.1-.9-2-2-2zM9 17H7v-7h2v7zm4 0h-2V7h2v10zm4 0h-2v-4h2v4z\"/>\n",
              "    </g>\n",
              "</svg>\n",
              "  </button>\n",
              "\n",
              "<style>\n",
              "  .colab-df-quickchart {\n",
              "      --bg-color: #E8F0FE;\n",
              "      --fill-color: #1967D2;\n",
              "      --hover-bg-color: #E2EBFA;\n",
              "      --hover-fill-color: #174EA6;\n",
              "      --disabled-fill-color: #AAA;\n",
              "      --disabled-bg-color: #DDD;\n",
              "  }\n",
              "\n",
              "  [theme=dark] .colab-df-quickchart {\n",
              "      --bg-color: #3B4455;\n",
              "      --fill-color: #D2E3FC;\n",
              "      --hover-bg-color: #434B5C;\n",
              "      --hover-fill-color: #FFFFFF;\n",
              "      --disabled-bg-color: #3B4455;\n",
              "      --disabled-fill-color: #666;\n",
              "  }\n",
              "\n",
              "  .colab-df-quickchart {\n",
              "    background-color: var(--bg-color);\n",
              "    border: none;\n",
              "    border-radius: 50%;\n",
              "    cursor: pointer;\n",
              "    display: none;\n",
              "    fill: var(--fill-color);\n",
              "    height: 32px;\n",
              "    padding: 0;\n",
              "    width: 32px;\n",
              "  }\n",
              "\n",
              "  .colab-df-quickchart:hover {\n",
              "    background-color: var(--hover-bg-color);\n",
              "    box-shadow: 0 1px 2px rgba(60, 64, 67, 0.3), 0 1px 3px 1px rgba(60, 64, 67, 0.15);\n",
              "    fill: var(--button-hover-fill-color);\n",
              "  }\n",
              "\n",
              "  .colab-df-quickchart-complete:disabled,\n",
              "  .colab-df-quickchart-complete:disabled:hover {\n",
              "    background-color: var(--disabled-bg-color);\n",
              "    fill: var(--disabled-fill-color);\n",
              "    box-shadow: none;\n",
              "  }\n",
              "\n",
              "  .colab-df-spinner {\n",
              "    border: 2px solid var(--fill-color);\n",
              "    border-color: transparent;\n",
              "    border-bottom-color: var(--fill-color);\n",
              "    animation:\n",
              "      spin 1s steps(1) infinite;\n",
              "  }\n",
              "\n",
              "  @keyframes spin {\n",
              "    0% {\n",
              "      border-color: transparent;\n",
              "      border-bottom-color: var(--fill-color);\n",
              "      border-left-color: var(--fill-color);\n",
              "    }\n",
              "    20% {\n",
              "      border-color: transparent;\n",
              "      border-left-color: var(--fill-color);\n",
              "      border-top-color: var(--fill-color);\n",
              "    }\n",
              "    30% {\n",
              "      border-color: transparent;\n",
              "      border-left-color: var(--fill-color);\n",
              "      border-top-color: var(--fill-color);\n",
              "      border-right-color: var(--fill-color);\n",
              "    }\n",
              "    40% {\n",
              "      border-color: transparent;\n",
              "      border-right-color: var(--fill-color);\n",
              "      border-top-color: var(--fill-color);\n",
              "    }\n",
              "    60% {\n",
              "      border-color: transparent;\n",
              "      border-right-color: var(--fill-color);\n",
              "    }\n",
              "    80% {\n",
              "      border-color: transparent;\n",
              "      border-right-color: var(--fill-color);\n",
              "      border-bottom-color: var(--fill-color);\n",
              "    }\n",
              "    90% {\n",
              "      border-color: transparent;\n",
              "      border-bottom-color: var(--fill-color);\n",
              "    }\n",
              "  }\n",
              "</style>\n",
              "\n",
              "  <script>\n",
              "    async function quickchart(key) {\n",
              "      const quickchartButtonEl =\n",
              "        document.querySelector('#' + key + ' button');\n",
              "      quickchartButtonEl.disabled = true;  // To prevent multiple clicks.\n",
              "      quickchartButtonEl.classList.add('colab-df-spinner');\n",
              "      try {\n",
              "        const charts = await google.colab.kernel.invokeFunction(\n",
              "            'suggestCharts', [key], {});\n",
              "      } catch (error) {\n",
              "        console.error('Error during call to suggestCharts:', error);\n",
              "      }\n",
              "      quickchartButtonEl.classList.remove('colab-df-spinner');\n",
              "      quickchartButtonEl.classList.add('colab-df-quickchart-complete');\n",
              "    }\n",
              "    (() => {\n",
              "      let quickchartButtonEl =\n",
              "        document.querySelector('#df-f254c72f-5a09-49e7-b591-e5143c718c8e button');\n",
              "      quickchartButtonEl.style.display =\n",
              "        google.colab.kernel.accessAllowed ? 'block' : 'none';\n",
              "    })();\n",
              "  </script>\n",
              "</div>\n",
              "    </div>\n",
              "  </div>\n"
            ],
            "application/vnd.google.colaboratory.intrinsic+json": {
              "type": "dataframe",
              "variable_name": "data_children",
              "summary": "{\n  \"name\": \"data_children\",\n  \"rows\": 6,\n  \"fields\": [\n    {\n      \"column\": \"children\",\n      \"properties\": {\n        \"dtype\": \"number\",\n        \"std\": 1,\n        \"min\": 0,\n        \"max\": 5,\n        \"num_unique_values\": 6,\n        \"samples\": [\n          4,\n          2,\n          5\n        ],\n        \"semantic_type\": \"\",\n        \"description\": \"\"\n      }\n    },\n    {\n      \"column\": \"\\u0412\\u0441\\u0435\\u0433\\u043e \\u043a\\u043b\\u0438\\u0435\\u043d\\u0442\\u043e\\u0432\",\n      \"properties\": {\n        \"dtype\": \"number\",\n        \"std\": 5480,\n        \"min\": 9,\n        \"max\": 14091,\n        \"num_unique_values\": 6,\n        \"samples\": [\n          41,\n          2052,\n          9\n        ],\n        \"semantic_type\": \"\",\n        \"description\": \"\"\n      }\n    },\n    {\n      \"column\": \"\\u041a\\u043e\\u043b-\\u0432\\u043e \\u0434\\u043e\\u043b\\u0436\\u043d\\u0438\\u043a\\u043e\\u0432\",\n      \"properties\": {\n        \"dtype\": \"number\",\n        \"std\": 416,\n        \"min\": 0,\n        \"max\": 1063,\n        \"num_unique_values\": 6,\n        \"samples\": [\n          4,\n          194,\n          0\n        ],\n        \"semantic_type\": \"\",\n        \"description\": \"\"\n      }\n    },\n    {\n      \"column\": \"\\u0414\\u043e\\u043b\\u044f \\u0434\\u043e\\u043b\\u0436\\u043d\\u0438\\u043a\\u043e\\u0432, %\",\n      \"properties\": {\n        \"dtype\": \"number\",\n        \"std\": 3.701334894332043,\n        \"min\": 0.0,\n        \"max\": 9.76,\n        \"num_unique_values\": 6,\n        \"samples\": [\n          9.76,\n          9.45,\n          0.0\n        ],\n        \"semantic_type\": \"\",\n        \"description\": \"\"\n      }\n    }\n  ]\n}"
            }
          },
          "metadata": {}
        }
      ],
      "source": [
        "# создадим сводною таблицу с индексом \"children\", подсчитаем общее количество клиентов и количество должников\n",
        "data_children = data.pivot_table(index = ['children'], values = 'debt', aggfunc = {'count','sum'})\n",
        "# создадим колонки с расчетом доли\n",
        "data_children['share'] = round(data_children['sum']/data_children['count'] * 100, 2)\n",
        "# сортируем по убыванию значений столбца \"Доля\"\n",
        "data_children = data_children.sort_values(by='share', ascending=False)\n",
        "# переименование стоблцов сводной таблицы\n",
        "data_children = data_children.rename(columns={'count':'Всего клиентов',\n",
        "                                        'sum':'Кол-во должников', 'share':'Доля должников, %'})\n",
        "\n",
        "display(data_children)"
      ]
    },
    {
      "cell_type": "markdown",
      "id": "2eb9088e",
      "metadata": {
        "deletable": false,
        "id": "2eb9088e"
      },
      "source": [
        "**Вывод:** Анализ групп клиентов по количеству детей показывает, что семьи с 1-4 детьми имеют наибольшую долю должников, что может быть связано с увеличением расходной части их бюджета. Напротив, семьи без детей демонстрируют наименьшую долю должников (7,5%), что указывает на их способность своевременно обслуживать кредиты без дополнительных финансовых нагрузок. Группа клиентов с 5 детьми не имеет должников, однако малый размер выборки (всего 9 клиентов) делает этот вывод менее надежным. Важно отметить, что при анализе данных необходимо учитывать несбалансированность выборок, так как малые выборки могут привести к искажению результатов и необоснованным выводам."
      ]
    },
    {
      "cell_type": "markdown",
      "id": "74c9b3a7",
      "metadata": {
        "deletable": false,
        "editable": false,
        "id": "74c9b3a7"
      },
      "source": [
        "#### 3.2 Есть ли зависимость между семейным положением и возвратом кредита в срок?"
      ]
    },
    {
      "cell_type": "code",
      "execution_count": 23,
      "id": "8098ab3b",
      "metadata": {
        "deletable": false,
        "id": "8098ab3b",
        "colab": {
          "base_uri": "https://localhost:8080/",
          "height": 238
        },
        "outputId": "e9d4f57d-68ad-4250-df69-4a42f657f4b2"
      },
      "outputs": [
        {
          "output_type": "display_data",
          "data": {
            "text/plain": [
              "                       Всего клиентов  Кол-во должников  Доля должников, %\n",
              "family_status                                                             \n",
              "Не женат / не замужем            2796               273               9.76\n",
              "гражданский брак                 4134               385               9.31\n",
              "женат / замужем                 12261               927               7.56\n",
              "в разводе                        1189                84               7.06\n",
              "вдовец / вдова                    951                63               6.62"
            ],
            "text/html": [
              "\n",
              "  <div id=\"df-76e22b7a-dc76-44ed-840c-88e743178794\" class=\"colab-df-container\">\n",
              "    <div>\n",
              "<style scoped>\n",
              "    .dataframe tbody tr th:only-of-type {\n",
              "        vertical-align: middle;\n",
              "    }\n",
              "\n",
              "    .dataframe tbody tr th {\n",
              "        vertical-align: top;\n",
              "    }\n",
              "\n",
              "    .dataframe thead th {\n",
              "        text-align: right;\n",
              "    }\n",
              "</style>\n",
              "<table border=\"1\" class=\"dataframe\">\n",
              "  <thead>\n",
              "    <tr style=\"text-align: right;\">\n",
              "      <th></th>\n",
              "      <th>Всего клиентов</th>\n",
              "      <th>Кол-во должников</th>\n",
              "      <th>Доля должников, %</th>\n",
              "    </tr>\n",
              "    <tr>\n",
              "      <th>family_status</th>\n",
              "      <th></th>\n",
              "      <th></th>\n",
              "      <th></th>\n",
              "    </tr>\n",
              "  </thead>\n",
              "  <tbody>\n",
              "    <tr>\n",
              "      <th>Не женат / не замужем</th>\n",
              "      <td>2796</td>\n",
              "      <td>273</td>\n",
              "      <td>9.76</td>\n",
              "    </tr>\n",
              "    <tr>\n",
              "      <th>гражданский брак</th>\n",
              "      <td>4134</td>\n",
              "      <td>385</td>\n",
              "      <td>9.31</td>\n",
              "    </tr>\n",
              "    <tr>\n",
              "      <th>женат / замужем</th>\n",
              "      <td>12261</td>\n",
              "      <td>927</td>\n",
              "      <td>7.56</td>\n",
              "    </tr>\n",
              "    <tr>\n",
              "      <th>в разводе</th>\n",
              "      <td>1189</td>\n",
              "      <td>84</td>\n",
              "      <td>7.06</td>\n",
              "    </tr>\n",
              "    <tr>\n",
              "      <th>вдовец / вдова</th>\n",
              "      <td>951</td>\n",
              "      <td>63</td>\n",
              "      <td>6.62</td>\n",
              "    </tr>\n",
              "  </tbody>\n",
              "</table>\n",
              "</div>\n",
              "    <div class=\"colab-df-buttons\">\n",
              "\n",
              "  <div class=\"colab-df-container\">\n",
              "    <button class=\"colab-df-convert\" onclick=\"convertToInteractive('df-76e22b7a-dc76-44ed-840c-88e743178794')\"\n",
              "            title=\"Convert this dataframe to an interactive table.\"\n",
              "            style=\"display:none;\">\n",
              "\n",
              "  <svg xmlns=\"http://www.w3.org/2000/svg\" height=\"24px\" viewBox=\"0 -960 960 960\">\n",
              "    <path d=\"M120-120v-720h720v720H120Zm60-500h600v-160H180v160Zm220 220h160v-160H400v160Zm0 220h160v-160H400v160ZM180-400h160v-160H180v160Zm440 0h160v-160H620v160ZM180-180h160v-160H180v160Zm440 0h160v-160H620v160Z\"/>\n",
              "  </svg>\n",
              "    </button>\n",
              "\n",
              "  <style>\n",
              "    .colab-df-container {\n",
              "      display:flex;\n",
              "      gap: 12px;\n",
              "    }\n",
              "\n",
              "    .colab-df-convert {\n",
              "      background-color: #E8F0FE;\n",
              "      border: none;\n",
              "      border-radius: 50%;\n",
              "      cursor: pointer;\n",
              "      display: none;\n",
              "      fill: #1967D2;\n",
              "      height: 32px;\n",
              "      padding: 0 0 0 0;\n",
              "      width: 32px;\n",
              "    }\n",
              "\n",
              "    .colab-df-convert:hover {\n",
              "      background-color: #E2EBFA;\n",
              "      box-shadow: 0px 1px 2px rgba(60, 64, 67, 0.3), 0px 1px 3px 1px rgba(60, 64, 67, 0.15);\n",
              "      fill: #174EA6;\n",
              "    }\n",
              "\n",
              "    .colab-df-buttons div {\n",
              "      margin-bottom: 4px;\n",
              "    }\n",
              "\n",
              "    [theme=dark] .colab-df-convert {\n",
              "      background-color: #3B4455;\n",
              "      fill: #D2E3FC;\n",
              "    }\n",
              "\n",
              "    [theme=dark] .colab-df-convert:hover {\n",
              "      background-color: #434B5C;\n",
              "      box-shadow: 0px 1px 3px 1px rgba(0, 0, 0, 0.15);\n",
              "      filter: drop-shadow(0px 1px 2px rgba(0, 0, 0, 0.3));\n",
              "      fill: #FFFFFF;\n",
              "    }\n",
              "  </style>\n",
              "\n",
              "    <script>\n",
              "      const buttonEl =\n",
              "        document.querySelector('#df-76e22b7a-dc76-44ed-840c-88e743178794 button.colab-df-convert');\n",
              "      buttonEl.style.display =\n",
              "        google.colab.kernel.accessAllowed ? 'block' : 'none';\n",
              "\n",
              "      async function convertToInteractive(key) {\n",
              "        const element = document.querySelector('#df-76e22b7a-dc76-44ed-840c-88e743178794');\n",
              "        const dataTable =\n",
              "          await google.colab.kernel.invokeFunction('convertToInteractive',\n",
              "                                                    [key], {});\n",
              "        if (!dataTable) return;\n",
              "\n",
              "        const docLinkHtml = 'Like what you see? Visit the ' +\n",
              "          '<a target=\"_blank\" href=https://colab.research.google.com/notebooks/data_table.ipynb>data table notebook</a>'\n",
              "          + ' to learn more about interactive tables.';\n",
              "        element.innerHTML = '';\n",
              "        dataTable['output_type'] = 'display_data';\n",
              "        await google.colab.output.renderOutput(dataTable, element);\n",
              "        const docLink = document.createElement('div');\n",
              "        docLink.innerHTML = docLinkHtml;\n",
              "        element.appendChild(docLink);\n",
              "      }\n",
              "    </script>\n",
              "  </div>\n",
              "\n",
              "\n",
              "<div id=\"df-34d6b0f9-221a-4481-a7b8-6a683796bd03\">\n",
              "  <button class=\"colab-df-quickchart\" onclick=\"quickchart('df-34d6b0f9-221a-4481-a7b8-6a683796bd03')\"\n",
              "            title=\"Suggest charts\"\n",
              "            style=\"display:none;\">\n",
              "\n",
              "<svg xmlns=\"http://www.w3.org/2000/svg\" height=\"24px\"viewBox=\"0 0 24 24\"\n",
              "     width=\"24px\">\n",
              "    <g>\n",
              "        <path d=\"M19 3H5c-1.1 0-2 .9-2 2v14c0 1.1.9 2 2 2h14c1.1 0 2-.9 2-2V5c0-1.1-.9-2-2-2zM9 17H7v-7h2v7zm4 0h-2V7h2v10zm4 0h-2v-4h2v4z\"/>\n",
              "    </g>\n",
              "</svg>\n",
              "  </button>\n",
              "\n",
              "<style>\n",
              "  .colab-df-quickchart {\n",
              "      --bg-color: #E8F0FE;\n",
              "      --fill-color: #1967D2;\n",
              "      --hover-bg-color: #E2EBFA;\n",
              "      --hover-fill-color: #174EA6;\n",
              "      --disabled-fill-color: #AAA;\n",
              "      --disabled-bg-color: #DDD;\n",
              "  }\n",
              "\n",
              "  [theme=dark] .colab-df-quickchart {\n",
              "      --bg-color: #3B4455;\n",
              "      --fill-color: #D2E3FC;\n",
              "      --hover-bg-color: #434B5C;\n",
              "      --hover-fill-color: #FFFFFF;\n",
              "      --disabled-bg-color: #3B4455;\n",
              "      --disabled-fill-color: #666;\n",
              "  }\n",
              "\n",
              "  .colab-df-quickchart {\n",
              "    background-color: var(--bg-color);\n",
              "    border: none;\n",
              "    border-radius: 50%;\n",
              "    cursor: pointer;\n",
              "    display: none;\n",
              "    fill: var(--fill-color);\n",
              "    height: 32px;\n",
              "    padding: 0;\n",
              "    width: 32px;\n",
              "  }\n",
              "\n",
              "  .colab-df-quickchart:hover {\n",
              "    background-color: var(--hover-bg-color);\n",
              "    box-shadow: 0 1px 2px rgba(60, 64, 67, 0.3), 0 1px 3px 1px rgba(60, 64, 67, 0.15);\n",
              "    fill: var(--button-hover-fill-color);\n",
              "  }\n",
              "\n",
              "  .colab-df-quickchart-complete:disabled,\n",
              "  .colab-df-quickchart-complete:disabled:hover {\n",
              "    background-color: var(--disabled-bg-color);\n",
              "    fill: var(--disabled-fill-color);\n",
              "    box-shadow: none;\n",
              "  }\n",
              "\n",
              "  .colab-df-spinner {\n",
              "    border: 2px solid var(--fill-color);\n",
              "    border-color: transparent;\n",
              "    border-bottom-color: var(--fill-color);\n",
              "    animation:\n",
              "      spin 1s steps(1) infinite;\n",
              "  }\n",
              "\n",
              "  @keyframes spin {\n",
              "    0% {\n",
              "      border-color: transparent;\n",
              "      border-bottom-color: var(--fill-color);\n",
              "      border-left-color: var(--fill-color);\n",
              "    }\n",
              "    20% {\n",
              "      border-color: transparent;\n",
              "      border-left-color: var(--fill-color);\n",
              "      border-top-color: var(--fill-color);\n",
              "    }\n",
              "    30% {\n",
              "      border-color: transparent;\n",
              "      border-left-color: var(--fill-color);\n",
              "      border-top-color: var(--fill-color);\n",
              "      border-right-color: var(--fill-color);\n",
              "    }\n",
              "    40% {\n",
              "      border-color: transparent;\n",
              "      border-right-color: var(--fill-color);\n",
              "      border-top-color: var(--fill-color);\n",
              "    }\n",
              "    60% {\n",
              "      border-color: transparent;\n",
              "      border-right-color: var(--fill-color);\n",
              "    }\n",
              "    80% {\n",
              "      border-color: transparent;\n",
              "      border-right-color: var(--fill-color);\n",
              "      border-bottom-color: var(--fill-color);\n",
              "    }\n",
              "    90% {\n",
              "      border-color: transparent;\n",
              "      border-bottom-color: var(--fill-color);\n",
              "    }\n",
              "  }\n",
              "</style>\n",
              "\n",
              "  <script>\n",
              "    async function quickchart(key) {\n",
              "      const quickchartButtonEl =\n",
              "        document.querySelector('#' + key + ' button');\n",
              "      quickchartButtonEl.disabled = true;  // To prevent multiple clicks.\n",
              "      quickchartButtonEl.classList.add('colab-df-spinner');\n",
              "      try {\n",
              "        const charts = await google.colab.kernel.invokeFunction(\n",
              "            'suggestCharts', [key], {});\n",
              "      } catch (error) {\n",
              "        console.error('Error during call to suggestCharts:', error);\n",
              "      }\n",
              "      quickchartButtonEl.classList.remove('colab-df-spinner');\n",
              "      quickchartButtonEl.classList.add('colab-df-quickchart-complete');\n",
              "    }\n",
              "    (() => {\n",
              "      let quickchartButtonEl =\n",
              "        document.querySelector('#df-34d6b0f9-221a-4481-a7b8-6a683796bd03 button');\n",
              "      quickchartButtonEl.style.display =\n",
              "        google.colab.kernel.accessAllowed ? 'block' : 'none';\n",
              "    })();\n",
              "  </script>\n",
              "</div>\n",
              "    </div>\n",
              "  </div>\n"
            ],
            "application/vnd.google.colaboratory.intrinsic+json": {
              "type": "dataframe",
              "variable_name": "data_status",
              "summary": "{\n  \"name\": \"data_status\",\n  \"rows\": 5,\n  \"fields\": [\n    {\n      \"column\": \"family_status\",\n      \"properties\": {\n        \"dtype\": \"string\",\n        \"num_unique_values\": 5,\n        \"samples\": [\n          \"\\u0433\\u0440\\u0430\\u0436\\u0434\\u0430\\u043d\\u0441\\u043a\\u0438\\u0439 \\u0431\\u0440\\u0430\\u043a\",\n          \"\\u0432\\u0434\\u043e\\u0432\\u0435\\u0446 / \\u0432\\u0434\\u043e\\u0432\\u0430\",\n          \"\\u0436\\u0435\\u043d\\u0430\\u0442 / \\u0437\\u0430\\u043c\\u0443\\u0436\\u0435\\u043c\"\n        ],\n        \"semantic_type\": \"\",\n        \"description\": \"\"\n      }\n    },\n    {\n      \"column\": \"\\u0412\\u0441\\u0435\\u0433\\u043e \\u043a\\u043b\\u0438\\u0435\\u043d\\u0442\\u043e\\u0432\",\n      \"properties\": {\n        \"dtype\": \"number\",\n        \"std\": 4651,\n        \"min\": 951,\n        \"max\": 12261,\n        \"num_unique_values\": 5,\n        \"samples\": [\n          4134,\n          951,\n          12261\n        ],\n        \"semantic_type\": \"\",\n        \"description\": \"\"\n      }\n    },\n    {\n      \"column\": \"\\u041a\\u043e\\u043b-\\u0432\\u043e \\u0434\\u043e\\u043b\\u0436\\u043d\\u0438\\u043a\\u043e\\u0432\",\n      \"properties\": {\n        \"dtype\": \"number\",\n        \"std\": 351,\n        \"min\": 63,\n        \"max\": 927,\n        \"num_unique_values\": 5,\n        \"samples\": [\n          385,\n          63,\n          927\n        ],\n        \"semantic_type\": \"\",\n        \"description\": \"\"\n      }\n    },\n    {\n      \"column\": \"\\u0414\\u043e\\u043b\\u044f \\u0434\\u043e\\u043b\\u0436\\u043d\\u0438\\u043a\\u043e\\u0432, %\",\n      \"properties\": {\n        \"dtype\": \"number\",\n        \"std\": 1.394281176807605,\n        \"min\": 6.62,\n        \"max\": 9.76,\n        \"num_unique_values\": 5,\n        \"samples\": [\n          9.31,\n          6.62,\n          7.56\n        ],\n        \"semantic_type\": \"\",\n        \"description\": \"\"\n      }\n    }\n  ]\n}"
            }
          },
          "metadata": {}
        }
      ],
      "source": [
        "# создадим сводною таблицу с индексом \"family_status\",\n",
        "# подсчитаем общее количество клиентов и количество должников в каждой группе\n",
        "data_status = data.pivot_table(index = ['family_status'], values = 'debt', aggfunc = {'count','sum'})\n",
        "# создадим колонки с расчетом доли\n",
        "data_status['share'] = round(data_status['sum']/data_status['count'] * 100, 2)\n",
        "#  сортируем по убыванию значений столбца \"Доля\"\n",
        "data_status = data_status.sort_values(by='share', ascending=False)\n",
        "# переименуем столбцы\n",
        "data_status = data_status.rename(columns={'count':'Всего клиентов',\n",
        "                                        'sum':'Кол-во должников', 'share':'Доля должников, %'})\n",
        "display(data_status)"
      ]
    },
    {
      "cell_type": "markdown",
      "id": "c389ca63",
      "metadata": {
        "deletable": false,
        "id": "c389ca63"
      },
      "source": [
        "**Вывод:** Группа \"Не женат/не замужем\" имеет долю должников выше, чем остальные группы, что может указывать на более высокий риск просрочки кредита в этой категории.\n",
        "Женатые и замужние клиенты имеют более низкую долю должников, что может свидетельствовать о большей финансовой ответственности и возможности погасить кредит в срок."
      ]
    },
    {
      "cell_type": "markdown",
      "id": "9529de68",
      "metadata": {
        "deletable": false,
        "editable": false,
        "id": "9529de68"
      },
      "source": [
        "#### 3.3 Есть ли зависимость между уровнем дохода и возвратом кредита в срок?"
      ]
    },
    {
      "cell_type": "code",
      "execution_count": 25,
      "id": "8787f44a",
      "metadata": {
        "deletable": false,
        "id": "8787f44a",
        "colab": {
          "base_uri": "https://localhost:8080/",
          "height": 238
        },
        "outputId": "f2412c7d-0fa0-4a85-c713-1eddb833d8f1"
      },
      "outputs": [
        {
          "output_type": "display_data",
          "data": {
            "text/plain": [
              "                       Всего клиентов  Кол-во должников  Доля в %\n",
              "total_income_category                                            \n",
              "E                                  22                 2      9.09\n",
              "C                               15921              1353      8.50\n",
              "A                                  25                 2      8.00\n",
              "B                                5014               354      7.06\n",
              "D                                 349                21      6.02"
            ],
            "text/html": [
              "\n",
              "  <div id=\"df-6aacb73c-0921-4eaa-b89f-8702f539ecf4\" class=\"colab-df-container\">\n",
              "    <div>\n",
              "<style scoped>\n",
              "    .dataframe tbody tr th:only-of-type {\n",
              "        vertical-align: middle;\n",
              "    }\n",
              "\n",
              "    .dataframe tbody tr th {\n",
              "        vertical-align: top;\n",
              "    }\n",
              "\n",
              "    .dataframe thead th {\n",
              "        text-align: right;\n",
              "    }\n",
              "</style>\n",
              "<table border=\"1\" class=\"dataframe\">\n",
              "  <thead>\n",
              "    <tr style=\"text-align: right;\">\n",
              "      <th></th>\n",
              "      <th>Всего клиентов</th>\n",
              "      <th>Кол-во должников</th>\n",
              "      <th>Доля в %</th>\n",
              "    </tr>\n",
              "    <tr>\n",
              "      <th>total_income_category</th>\n",
              "      <th></th>\n",
              "      <th></th>\n",
              "      <th></th>\n",
              "    </tr>\n",
              "  </thead>\n",
              "  <tbody>\n",
              "    <tr>\n",
              "      <th>E</th>\n",
              "      <td>22</td>\n",
              "      <td>2</td>\n",
              "      <td>9.09</td>\n",
              "    </tr>\n",
              "    <tr>\n",
              "      <th>C</th>\n",
              "      <td>15921</td>\n",
              "      <td>1353</td>\n",
              "      <td>8.50</td>\n",
              "    </tr>\n",
              "    <tr>\n",
              "      <th>A</th>\n",
              "      <td>25</td>\n",
              "      <td>2</td>\n",
              "      <td>8.00</td>\n",
              "    </tr>\n",
              "    <tr>\n",
              "      <th>B</th>\n",
              "      <td>5014</td>\n",
              "      <td>354</td>\n",
              "      <td>7.06</td>\n",
              "    </tr>\n",
              "    <tr>\n",
              "      <th>D</th>\n",
              "      <td>349</td>\n",
              "      <td>21</td>\n",
              "      <td>6.02</td>\n",
              "    </tr>\n",
              "  </tbody>\n",
              "</table>\n",
              "</div>\n",
              "    <div class=\"colab-df-buttons\">\n",
              "\n",
              "  <div class=\"colab-df-container\">\n",
              "    <button class=\"colab-df-convert\" onclick=\"convertToInteractive('df-6aacb73c-0921-4eaa-b89f-8702f539ecf4')\"\n",
              "            title=\"Convert this dataframe to an interactive table.\"\n",
              "            style=\"display:none;\">\n",
              "\n",
              "  <svg xmlns=\"http://www.w3.org/2000/svg\" height=\"24px\" viewBox=\"0 -960 960 960\">\n",
              "    <path d=\"M120-120v-720h720v720H120Zm60-500h600v-160H180v160Zm220 220h160v-160H400v160Zm0 220h160v-160H400v160ZM180-400h160v-160H180v160Zm440 0h160v-160H620v160ZM180-180h160v-160H180v160Zm440 0h160v-160H620v160Z\"/>\n",
              "  </svg>\n",
              "    </button>\n",
              "\n",
              "  <style>\n",
              "    .colab-df-container {\n",
              "      display:flex;\n",
              "      gap: 12px;\n",
              "    }\n",
              "\n",
              "    .colab-df-convert {\n",
              "      background-color: #E8F0FE;\n",
              "      border: none;\n",
              "      border-radius: 50%;\n",
              "      cursor: pointer;\n",
              "      display: none;\n",
              "      fill: #1967D2;\n",
              "      height: 32px;\n",
              "      padding: 0 0 0 0;\n",
              "      width: 32px;\n",
              "    }\n",
              "\n",
              "    .colab-df-convert:hover {\n",
              "      background-color: #E2EBFA;\n",
              "      box-shadow: 0px 1px 2px rgba(60, 64, 67, 0.3), 0px 1px 3px 1px rgba(60, 64, 67, 0.15);\n",
              "      fill: #174EA6;\n",
              "    }\n",
              "\n",
              "    .colab-df-buttons div {\n",
              "      margin-bottom: 4px;\n",
              "    }\n",
              "\n",
              "    [theme=dark] .colab-df-convert {\n",
              "      background-color: #3B4455;\n",
              "      fill: #D2E3FC;\n",
              "    }\n",
              "\n",
              "    [theme=dark] .colab-df-convert:hover {\n",
              "      background-color: #434B5C;\n",
              "      box-shadow: 0px 1px 3px 1px rgba(0, 0, 0, 0.15);\n",
              "      filter: drop-shadow(0px 1px 2px rgba(0, 0, 0, 0.3));\n",
              "      fill: #FFFFFF;\n",
              "    }\n",
              "  </style>\n",
              "\n",
              "    <script>\n",
              "      const buttonEl =\n",
              "        document.querySelector('#df-6aacb73c-0921-4eaa-b89f-8702f539ecf4 button.colab-df-convert');\n",
              "      buttonEl.style.display =\n",
              "        google.colab.kernel.accessAllowed ? 'block' : 'none';\n",
              "\n",
              "      async function convertToInteractive(key) {\n",
              "        const element = document.querySelector('#df-6aacb73c-0921-4eaa-b89f-8702f539ecf4');\n",
              "        const dataTable =\n",
              "          await google.colab.kernel.invokeFunction('convertToInteractive',\n",
              "                                                    [key], {});\n",
              "        if (!dataTable) return;\n",
              "\n",
              "        const docLinkHtml = 'Like what you see? Visit the ' +\n",
              "          '<a target=\"_blank\" href=https://colab.research.google.com/notebooks/data_table.ipynb>data table notebook</a>'\n",
              "          + ' to learn more about interactive tables.';\n",
              "        element.innerHTML = '';\n",
              "        dataTable['output_type'] = 'display_data';\n",
              "        await google.colab.output.renderOutput(dataTable, element);\n",
              "        const docLink = document.createElement('div');\n",
              "        docLink.innerHTML = docLinkHtml;\n",
              "        element.appendChild(docLink);\n",
              "      }\n",
              "    </script>\n",
              "  </div>\n",
              "\n",
              "\n",
              "<div id=\"df-1082e3b1-9fa3-44bc-bc9a-39e6d166db3c\">\n",
              "  <button class=\"colab-df-quickchart\" onclick=\"quickchart('df-1082e3b1-9fa3-44bc-bc9a-39e6d166db3c')\"\n",
              "            title=\"Suggest charts\"\n",
              "            style=\"display:none;\">\n",
              "\n",
              "<svg xmlns=\"http://www.w3.org/2000/svg\" height=\"24px\"viewBox=\"0 0 24 24\"\n",
              "     width=\"24px\">\n",
              "    <g>\n",
              "        <path d=\"M19 3H5c-1.1 0-2 .9-2 2v14c0 1.1.9 2 2 2h14c1.1 0 2-.9 2-2V5c0-1.1-.9-2-2-2zM9 17H7v-7h2v7zm4 0h-2V7h2v10zm4 0h-2v-4h2v4z\"/>\n",
              "    </g>\n",
              "</svg>\n",
              "  </button>\n",
              "\n",
              "<style>\n",
              "  .colab-df-quickchart {\n",
              "      --bg-color: #E8F0FE;\n",
              "      --fill-color: #1967D2;\n",
              "      --hover-bg-color: #E2EBFA;\n",
              "      --hover-fill-color: #174EA6;\n",
              "      --disabled-fill-color: #AAA;\n",
              "      --disabled-bg-color: #DDD;\n",
              "  }\n",
              "\n",
              "  [theme=dark] .colab-df-quickchart {\n",
              "      --bg-color: #3B4455;\n",
              "      --fill-color: #D2E3FC;\n",
              "      --hover-bg-color: #434B5C;\n",
              "      --hover-fill-color: #FFFFFF;\n",
              "      --disabled-bg-color: #3B4455;\n",
              "      --disabled-fill-color: #666;\n",
              "  }\n",
              "\n",
              "  .colab-df-quickchart {\n",
              "    background-color: var(--bg-color);\n",
              "    border: none;\n",
              "    border-radius: 50%;\n",
              "    cursor: pointer;\n",
              "    display: none;\n",
              "    fill: var(--fill-color);\n",
              "    height: 32px;\n",
              "    padding: 0;\n",
              "    width: 32px;\n",
              "  }\n",
              "\n",
              "  .colab-df-quickchart:hover {\n",
              "    background-color: var(--hover-bg-color);\n",
              "    box-shadow: 0 1px 2px rgba(60, 64, 67, 0.3), 0 1px 3px 1px rgba(60, 64, 67, 0.15);\n",
              "    fill: var(--button-hover-fill-color);\n",
              "  }\n",
              "\n",
              "  .colab-df-quickchart-complete:disabled,\n",
              "  .colab-df-quickchart-complete:disabled:hover {\n",
              "    background-color: var(--disabled-bg-color);\n",
              "    fill: var(--disabled-fill-color);\n",
              "    box-shadow: none;\n",
              "  }\n",
              "\n",
              "  .colab-df-spinner {\n",
              "    border: 2px solid var(--fill-color);\n",
              "    border-color: transparent;\n",
              "    border-bottom-color: var(--fill-color);\n",
              "    animation:\n",
              "      spin 1s steps(1) infinite;\n",
              "  }\n",
              "\n",
              "  @keyframes spin {\n",
              "    0% {\n",
              "      border-color: transparent;\n",
              "      border-bottom-color: var(--fill-color);\n",
              "      border-left-color: var(--fill-color);\n",
              "    }\n",
              "    20% {\n",
              "      border-color: transparent;\n",
              "      border-left-color: var(--fill-color);\n",
              "      border-top-color: var(--fill-color);\n",
              "    }\n",
              "    30% {\n",
              "      border-color: transparent;\n",
              "      border-left-color: var(--fill-color);\n",
              "      border-top-color: var(--fill-color);\n",
              "      border-right-color: var(--fill-color);\n",
              "    }\n",
              "    40% {\n",
              "      border-color: transparent;\n",
              "      border-right-color: var(--fill-color);\n",
              "      border-top-color: var(--fill-color);\n",
              "    }\n",
              "    60% {\n",
              "      border-color: transparent;\n",
              "      border-right-color: var(--fill-color);\n",
              "    }\n",
              "    80% {\n",
              "      border-color: transparent;\n",
              "      border-right-color: var(--fill-color);\n",
              "      border-bottom-color: var(--fill-color);\n",
              "    }\n",
              "    90% {\n",
              "      border-color: transparent;\n",
              "      border-bottom-color: var(--fill-color);\n",
              "    }\n",
              "  }\n",
              "</style>\n",
              "\n",
              "  <script>\n",
              "    async function quickchart(key) {\n",
              "      const quickchartButtonEl =\n",
              "        document.querySelector('#' + key + ' button');\n",
              "      quickchartButtonEl.disabled = true;  // To prevent multiple clicks.\n",
              "      quickchartButtonEl.classList.add('colab-df-spinner');\n",
              "      try {\n",
              "        const charts = await google.colab.kernel.invokeFunction(\n",
              "            'suggestCharts', [key], {});\n",
              "      } catch (error) {\n",
              "        console.error('Error during call to suggestCharts:', error);\n",
              "      }\n",
              "      quickchartButtonEl.classList.remove('colab-df-spinner');\n",
              "      quickchartButtonEl.classList.add('colab-df-quickchart-complete');\n",
              "    }\n",
              "    (() => {\n",
              "      let quickchartButtonEl =\n",
              "        document.querySelector('#df-1082e3b1-9fa3-44bc-bc9a-39e6d166db3c button');\n",
              "      quickchartButtonEl.style.display =\n",
              "        google.colab.kernel.accessAllowed ? 'block' : 'none';\n",
              "    })();\n",
              "  </script>\n",
              "</div>\n",
              "    </div>\n",
              "  </div>\n"
            ],
            "application/vnd.google.colaboratory.intrinsic+json": {
              "type": "dataframe",
              "variable_name": "data_income",
              "summary": "{\n  \"name\": \"data_income\",\n  \"rows\": 5,\n  \"fields\": [\n    {\n      \"column\": \"total_income_category\",\n      \"properties\": {\n        \"dtype\": \"string\",\n        \"num_unique_values\": 5,\n        \"samples\": [\n          \"C\",\n          \"D\",\n          \"A\"\n        ],\n        \"semantic_type\": \"\",\n        \"description\": \"\"\n      }\n    },\n    {\n      \"column\": \"\\u0412\\u0441\\u0435\\u0433\\u043e \\u043a\\u043b\\u0438\\u0435\\u043d\\u0442\\u043e\\u0432\",\n      \"properties\": {\n        \"dtype\": \"number\",\n        \"std\": 6850,\n        \"min\": 22,\n        \"max\": 15921,\n        \"num_unique_values\": 5,\n        \"samples\": [\n          15921,\n          349,\n          25\n        ],\n        \"semantic_type\": \"\",\n        \"description\": \"\"\n      }\n    },\n    {\n      \"column\": \"\\u041a\\u043e\\u043b-\\u0432\\u043e \\u0434\\u043e\\u043b\\u0436\\u043d\\u0438\\u043a\\u043e\\u0432\",\n      \"properties\": {\n        \"dtype\": \"number\",\n        \"std\": 582,\n        \"min\": 2,\n        \"max\": 1353,\n        \"num_unique_values\": 4,\n        \"samples\": [\n          1353,\n          21,\n          2\n        ],\n        \"semantic_type\": \"\",\n        \"description\": \"\"\n      }\n    },\n    {\n      \"column\": \"\\u0414\\u043e\\u043b\\u044f \\u0432 %\",\n      \"properties\": {\n        \"dtype\": \"number\",\n        \"std\": 1.2132930396239816,\n        \"min\": 6.02,\n        \"max\": 9.09,\n        \"num_unique_values\": 5,\n        \"samples\": [\n          8.5,\n          6.02,\n          8.0\n        ],\n        \"semantic_type\": \"\",\n        \"description\": \"\"\n      }\n    }\n  ]\n}"
            }
          },
          "metadata": {}
        }
      ],
      "source": [
        "# создадим сводною таблицу с индексом 'total_income_category' (доход),\n",
        "# подсчитаем общее количество клиентов и количество должников в каждой группе\n",
        "data_income = data.pivot_table(index = ['total_income_category'], values = 'debt', aggfunc = {'count','sum'})\n",
        "# создадим колонки с расчетом доли\n",
        "data_income['share'] = round(data_income['sum']/data_income['count'] * 100, 2)\n",
        "#  сортируем по убыванию значений столбца \"Доля\"\n",
        "data_income = data_income.sort_values(by='share', ascending=False)\n",
        "# переименуем столбцы\n",
        "data_income = data_income.rename(columns={'count':'Всего клиентов',\n",
        "                                        'sum':'Кол-во должников', 'share':'Доля в %'})\n",
        "display(data_income)"
      ]
    },
    {
      "cell_type": "markdown",
      "id": "6dd14b57",
      "metadata": {
        "deletable": false,
        "id": "6dd14b57"
      },
      "source": [
        "**Вывод:** Представленные выборки несбалансированы и какой-то вывод можно делать только по двум категориям с достаточным размером выборок.\n",
        "\n",
        "Самую высокую долю должников имеет группа с самыми низкими доходами (0–30000). Однако, следует заметить, что в этой группе меньше всего наблюдений, их следует перепроверить на большей выборке.\n",
        "Самой ответсвенной является категория 'D' (30001–50000). Средние показатели по возврату кредита - у групп со средним доходом и выше."
      ]
    },
    {
      "cell_type": "markdown",
      "id": "1dcc9b12",
      "metadata": {
        "deletable": false,
        "editable": false,
        "id": "1dcc9b12"
      },
      "source": [
        "#### 3.4 Как разные цели кредита влияют на его возврат в срок?"
      ]
    },
    {
      "cell_type": "code",
      "execution_count": null,
      "id": "c602bc8b",
      "metadata": {
        "deletable": false,
        "id": "c602bc8b"
      },
      "outputs": [],
      "source": [
        "# создание сводной таблицы с индексом 'purpose_category',\n",
        "# подсчет общего количества клиентов и количества должников в каждой группе\n",
        "data_purpose = data.pivot_table(index = ['purpose_category'], values = 'debt', aggfunc = {'count','sum'})\n",
        "# создание колонки и расчет доли\n",
        "data_purpose['share'] = round(data_purpose['sum']/data_purpose['count'] * 100, 2)\n",
        "#  сортировка по убыванию значений столбца \"Доля\"\n",
        "data_purpose = data_purpose.sort_values(by='share', ascending=False)\n",
        "# переименование столбцов\n",
        "data_purpose = data_purpose.rename(columns={'count':'Всего клиентов',\n",
        "                                        'sum':'Кол-во должников', 'share':'Доля должников, %'})\n",
        "display(data_purpose)"
      ]
    },
    {
      "cell_type": "markdown",
      "id": "cf05ed63",
      "metadata": {
        "deletable": false,
        "id": "cf05ed63"
      },
      "source": [
        "**Вывод:** Чаще не возвращают кредит в срок клиенты, бравшие его для покупки автомобиля или для получения образования. Возможно, кредиты на автомобиль и обучение несут дополнительные риски связанные или с возможной аварией, или с проблемами трудоустройства после обучения.\n",
        "\n",
        "Операции с недвижимостью имеют наименьшую долю должников, что может свидетельствовать о более стабильной финансовой ситуации клиентов, берущих кредиты на недвижимость."
      ]
    },
    {
      "cell_type": "markdown",
      "id": "46c1f10b",
      "metadata": {
        "deletable": false,
        "editable": false,
        "id": "46c1f10b"
      },
      "source": [
        "#### 3.5 Приведите возможные причины появления пропусков в исходных данных."
      ]
    },
    {
      "cell_type": "markdown",
      "id": "3697d2a9",
      "metadata": {
        "deletable": false,
        "id": "3697d2a9"
      },
      "source": [
        "*Ответ:* Существует несколько причин отсутствия данных в датасетах, в том числе:\n",
        "\n",
        "Человеческий фактор: Ошибки ввода данных, не желание отвечать на определенные вопросы.\n",
        "\n",
        "Технические проблемы: Возможны сбои с оборудованием или программным обеспечением для сбора данных. Отсутствующие данные могут быть удалены в процессе обработки или очистки данных.\n",
        "\n",
        "Организационные: Конфиденциальность, могут отсутствовать данные, идентифицирующие отдельных лиц или компании."
      ]
    },
    {
      "cell_type": "markdown",
      "id": "3137d257",
      "metadata": {
        "deletable": false,
        "editable": false,
        "id": "3137d257"
      },
      "source": [
        "#### 3.6 Объясните, почему заполнить пропуски медианным значением — лучшее решение для количественных переменных."
      ]
    },
    {
      "cell_type": "markdown",
      "id": "cf40012a",
      "metadata": {
        "deletable": false,
        "id": "cf40012a"
      },
      "source": [
        "*Ответ:* Пропуски принято заполнять медианным значением, поскольку оно более устойчиво к выбросам, чем среднее значение. Это позволяет сохранить исходное распределение данных и обеспечивает более надежные результаты при дальнейшей обработке и анализе."
      ]
    },
    {
      "cell_type": "markdown",
      "id": "57bc304e",
      "metadata": {
        "deletable": false,
        "editable": false,
        "id": "57bc304e"
      },
      "source": [
        "### Общий вывод."
      ]
    },
    {
      "cell_type": "markdown",
      "id": "e223cb2d",
      "metadata": {
        "id": "e223cb2d"
      },
      "source": [
        "В ходе исследования надёжности заемщиков были данные от банка — статистика о платёжеспособности клиентов. Данные были изучены и обработаны:\n",
        "- пропуски в данных о доходах заменены медианным значением по каждому типу занятости;\n",
        "- заменены все отрицательные значения положительными с помощью метода abs();\n",
        "- удалены анамальные значения в столбце children;\n",
        "- заполнены пропуски в столбце days_employed медианными значениями по каждого типа занятости;\n",
        "- заменен вещественный тип данных в столбце total_income на целочисленный с помощью метода astype();\n",
        "- неявные дубликаты в столбце education приведены их к нижнему регистру;\n",
        "- удалены строки-дубликаты в данных;\n",
        "- проведена категоризации в столбцах данных о доходах и целях кредита;\n",
        "- сформулированы гипотезы исследования.\n",
        "\n",
        "\n",
        "На основе примененных шагов по обработке данных можно дать следующие рекомендации по улучшению сбора данных:\n",
        "- сбор в одном формате (например, только положительные числа для доходов),\n",
        "- валидация данных на этапе ввода, чтобы избежать отрицательных значений или других некорректных форматов;\n",
        "- введение четкой категоризации данных для целей кредита;\n",
        "- использовать для анализа большее количество наблюдений и репрезентативные выборки."
      ]
    },
    {
      "cell_type": "markdown",
      "id": "1ab75d1c",
      "metadata": {
        "deletable": false,
        "id": "1ab75d1c"
      },
      "source": [
        "Исходя из представленных в наше распоряжение данных, с учетом их обработки (заполнения пропусков, удаления дублей и тд), можно сделать вывод что наиболее ответсвенными в отношении возврата кредита являются клиенты с доходом 30001–50000, состоящие в браке и не имеющие детей, берущие кредит на приобретение недвижимости. И напротив, склонны нарушать сроки погашения люди, не состояшие никогда в браке, имеющие 4 детей, и имеющие или низкие доходы, или, напротив, очень высокие, берущие кретит для покупки автомобиля или получения образования.\n",
        "\n",
        "Таким образом, выдвинутые гипотезы частично подтверждены. Однако, нужно большее количество данных, более репрезентативные выборки, чтоб делать однозначные выводы."
      ]
    }
  ],
  "metadata": {
    "ExecuteTimeLog": [
      {
        "duration": 46,
        "start_time": "2024-07-21T14:47:27.438Z"
      },
      {
        "duration": 542,
        "start_time": "2024-07-21T14:47:37.711Z"
      },
      {
        "duration": 24,
        "start_time": "2024-07-21T14:47:38.255Z"
      },
      {
        "duration": 17,
        "start_time": "2024-07-21T14:47:38.280Z"
      },
      {
        "duration": 10,
        "start_time": "2024-07-21T14:47:38.298Z"
      },
      {
        "duration": 37,
        "start_time": "2024-07-21T14:47:38.310Z"
      },
      {
        "duration": 4,
        "start_time": "2024-07-21T14:47:38.349Z"
      },
      {
        "duration": 9,
        "start_time": "2024-07-21T14:47:38.354Z"
      },
      {
        "duration": 3,
        "start_time": "2024-07-21T14:47:38.365Z"
      },
      {
        "duration": 14,
        "start_time": "2024-07-21T14:47:38.370Z"
      },
      {
        "duration": 28,
        "start_time": "2024-07-21T14:47:38.386Z"
      },
      {
        "duration": 35,
        "start_time": "2024-07-21T14:47:38.416Z"
      },
      {
        "duration": 11,
        "start_time": "2024-07-21T14:47:38.452Z"
      },
      {
        "duration": 4,
        "start_time": "2024-07-21T14:47:38.464Z"
      },
      {
        "duration": 16,
        "start_time": "2024-07-21T14:47:38.472Z"
      },
      {
        "duration": 37,
        "start_time": "2024-07-21T14:47:38.490Z"
      },
      {
        "duration": 18,
        "start_time": "2024-07-21T14:47:38.529Z"
      },
      {
        "duration": 8,
        "start_time": "2024-07-21T14:47:38.549Z"
      },
      {
        "duration": 17,
        "start_time": "2024-07-21T14:47:38.559Z"
      },
      {
        "duration": 9,
        "start_time": "2024-07-21T14:47:38.578Z"
      },
      {
        "duration": 17,
        "start_time": "2024-07-21T14:47:38.588Z"
      },
      {
        "duration": 19,
        "start_time": "2024-07-21T14:47:38.606Z"
      },
      {
        "duration": 32,
        "start_time": "2024-07-21T14:47:38.626Z"
      },
      {
        "duration": 0,
        "start_time": "2024-07-21T14:47:38.660Z"
      },
      {
        "duration": 0,
        "start_time": "2024-07-21T14:47:38.661Z"
      },
      {
        "duration": 0,
        "start_time": "2024-07-21T14:47:38.662Z"
      },
      {
        "duration": 22,
        "start_time": "2024-07-21T15:03:09.124Z"
      },
      {
        "duration": 15,
        "start_time": "2024-07-21T15:03:25.634Z"
      },
      {
        "duration": 20,
        "start_time": "2024-07-21T15:05:39.387Z"
      },
      {
        "duration": 17,
        "start_time": "2024-07-21T15:06:25.709Z"
      },
      {
        "duration": 17,
        "start_time": "2024-07-21T15:10:05.264Z"
      },
      {
        "duration": 18,
        "start_time": "2024-07-21T15:10:43.573Z"
      },
      {
        "duration": 19,
        "start_time": "2024-07-21T15:11:00.864Z"
      },
      {
        "duration": 5,
        "start_time": "2024-07-21T15:13:56.574Z"
      },
      {
        "duration": 65,
        "start_time": "2024-07-21T15:14:19.177Z"
      },
      {
        "duration": 58,
        "start_time": "2024-07-21T15:14:34.766Z"
      },
      {
        "duration": 59,
        "start_time": "2024-07-21T15:14:53.465Z"
      },
      {
        "duration": 68,
        "start_time": "2024-07-21T15:15:07.896Z"
      },
      {
        "duration": 61,
        "start_time": "2024-07-21T15:15:14.292Z"
      },
      {
        "duration": 71,
        "start_time": "2024-07-21T15:15:39.050Z"
      },
      {
        "duration": 16,
        "start_time": "2024-07-21T15:15:51.793Z"
      },
      {
        "duration": 21,
        "start_time": "2024-07-21T15:16:05.734Z"
      },
      {
        "duration": 27,
        "start_time": "2024-07-21T15:16:32.625Z"
      },
      {
        "duration": 22,
        "start_time": "2024-07-21T15:38:30.288Z"
      },
      {
        "duration": 21,
        "start_time": "2024-07-21T15:44:09.936Z"
      },
      {
        "duration": 21,
        "start_time": "2024-07-21T15:45:44.570Z"
      },
      {
        "duration": 21,
        "start_time": "2024-07-21T15:47:54.431Z"
      },
      {
        "duration": 19,
        "start_time": "2024-07-21T15:48:37.005Z"
      },
      {
        "duration": 20,
        "start_time": "2024-07-21T15:49:06.084Z"
      },
      {
        "duration": 84,
        "start_time": "2024-07-21T15:49:18.001Z"
      },
      {
        "duration": 15,
        "start_time": "2024-07-21T15:49:18.087Z"
      },
      {
        "duration": 37,
        "start_time": "2024-07-21T15:49:18.103Z"
      },
      {
        "duration": 20,
        "start_time": "2024-07-21T15:49:18.141Z"
      },
      {
        "duration": 44,
        "start_time": "2024-07-21T15:49:18.163Z"
      },
      {
        "duration": 3,
        "start_time": "2024-07-21T15:49:18.209Z"
      },
      {
        "duration": 10,
        "start_time": "2024-07-21T15:49:18.214Z"
      },
      {
        "duration": 4,
        "start_time": "2024-07-21T15:49:18.225Z"
      },
      {
        "duration": 7,
        "start_time": "2024-07-21T15:49:18.230Z"
      },
      {
        "duration": 26,
        "start_time": "2024-07-21T15:49:18.239Z"
      },
      {
        "duration": 41,
        "start_time": "2024-07-21T15:49:18.267Z"
      },
      {
        "duration": 10,
        "start_time": "2024-07-21T15:49:18.310Z"
      },
      {
        "duration": 4,
        "start_time": "2024-07-21T15:49:18.322Z"
      },
      {
        "duration": 14,
        "start_time": "2024-07-21T15:49:18.327Z"
      },
      {
        "duration": 19,
        "start_time": "2024-07-21T15:49:18.343Z"
      },
      {
        "duration": 42,
        "start_time": "2024-07-21T15:49:18.363Z"
      },
      {
        "duration": 4,
        "start_time": "2024-07-21T15:49:18.407Z"
      },
      {
        "duration": 32,
        "start_time": "2024-07-21T15:49:18.412Z"
      },
      {
        "duration": 6,
        "start_time": "2024-07-21T15:49:18.446Z"
      },
      {
        "duration": 13,
        "start_time": "2024-07-21T15:49:18.453Z"
      },
      {
        "duration": 14,
        "start_time": "2024-07-21T15:49:18.468Z"
      },
      {
        "duration": 37,
        "start_time": "2024-07-21T15:49:18.483Z"
      },
      {
        "duration": 20,
        "start_time": "2024-07-21T15:49:18.522Z"
      },
      {
        "duration": 2,
        "start_time": "2024-07-21T15:49:18.544Z"
      },
      {
        "duration": 3,
        "start_time": "2024-07-21T15:49:18.548Z"
      },
      {
        "duration": 20,
        "start_time": "2024-07-21T15:50:09.044Z"
      },
      {
        "duration": 20,
        "start_time": "2024-07-21T15:51:23.643Z"
      },
      {
        "duration": 32,
        "start_time": "2024-07-21T15:52:23.166Z"
      },
      {
        "duration": 21,
        "start_time": "2024-07-21T15:57:48.036Z"
      },
      {
        "duration": 20,
        "start_time": "2024-07-21T16:03:33.246Z"
      },
      {
        "duration": 21,
        "start_time": "2024-07-21T16:03:42.319Z"
      },
      {
        "duration": 930,
        "start_time": "2024-07-21T16:45:51.684Z"
      },
      {
        "duration": 1005,
        "start_time": "2024-07-21T16:46:04.829Z"
      },
      {
        "duration": 20,
        "start_time": "2024-07-21T16:46:17.528Z"
      },
      {
        "duration": 457,
        "start_time": "2024-07-21T21:11:43.040Z"
      },
      {
        "duration": 18,
        "start_time": "2024-07-21T21:11:43.498Z"
      },
      {
        "duration": 49,
        "start_time": "2024-07-21T21:11:43.518Z"
      },
      {
        "duration": 12,
        "start_time": "2024-07-21T21:11:43.568Z"
      },
      {
        "duration": 29,
        "start_time": "2024-07-21T21:11:43.581Z"
      },
      {
        "duration": 3,
        "start_time": "2024-07-21T21:11:43.611Z"
      },
      {
        "duration": 17,
        "start_time": "2024-07-21T21:11:43.615Z"
      },
      {
        "duration": 3,
        "start_time": "2024-07-21T21:11:43.633Z"
      },
      {
        "duration": 31,
        "start_time": "2024-07-21T21:11:43.637Z"
      },
      {
        "duration": 4,
        "start_time": "2024-07-21T21:11:43.670Z"
      },
      {
        "duration": 41,
        "start_time": "2024-07-21T21:11:43.675Z"
      },
      {
        "duration": 8,
        "start_time": "2024-07-21T21:11:43.717Z"
      },
      {
        "duration": 20,
        "start_time": "2024-07-21T21:11:43.726Z"
      },
      {
        "duration": 53,
        "start_time": "2024-07-21T21:11:43.747Z"
      },
      {
        "duration": 51,
        "start_time": "2024-07-21T21:11:43.801Z"
      },
      {
        "duration": 15,
        "start_time": "2024-07-21T21:11:43.853Z"
      },
      {
        "duration": 3,
        "start_time": "2024-07-21T21:11:43.870Z"
      },
      {
        "duration": 13,
        "start_time": "2024-07-21T21:11:43.874Z"
      },
      {
        "duration": 11,
        "start_time": "2024-07-21T21:11:43.888Z"
      },
      {
        "duration": 3,
        "start_time": "2024-07-21T21:11:43.900Z"
      },
      {
        "duration": 15,
        "start_time": "2024-07-21T21:11:43.904Z"
      },
      {
        "duration": 30,
        "start_time": "2024-07-21T21:11:43.921Z"
      },
      {
        "duration": 17,
        "start_time": "2024-07-21T21:11:43.953Z"
      },
      {
        "duration": 16,
        "start_time": "2024-07-21T21:11:43.972Z"
      },
      {
        "duration": 28,
        "start_time": "2024-07-21T21:11:43.989Z"
      },
      {
        "duration": 18,
        "start_time": "2024-07-21T21:15:32.437Z"
      },
      {
        "duration": 17,
        "start_time": "2024-07-21T21:24:03.517Z"
      },
      {
        "duration": 23,
        "start_time": "2024-07-21T21:45:30.761Z"
      },
      {
        "duration": 63,
        "start_time": "2024-07-21T22:10:26.623Z"
      },
      {
        "duration": 12,
        "start_time": "2024-07-21T22:10:26.687Z"
      },
      {
        "duration": 19,
        "start_time": "2024-07-21T22:10:26.700Z"
      },
      {
        "duration": 12,
        "start_time": "2024-07-21T22:10:26.721Z"
      },
      {
        "duration": 26,
        "start_time": "2024-07-21T22:10:26.734Z"
      },
      {
        "duration": 3,
        "start_time": "2024-07-21T22:10:26.761Z"
      },
      {
        "duration": 13,
        "start_time": "2024-07-21T22:10:26.765Z"
      },
      {
        "duration": 3,
        "start_time": "2024-07-21T22:10:26.779Z"
      },
      {
        "duration": 10,
        "start_time": "2024-07-21T22:10:26.783Z"
      },
      {
        "duration": 11,
        "start_time": "2024-07-21T22:10:26.795Z"
      },
      {
        "duration": 29,
        "start_time": "2024-07-21T22:10:26.807Z"
      },
      {
        "duration": 7,
        "start_time": "2024-07-21T22:10:26.838Z"
      },
      {
        "duration": 3,
        "start_time": "2024-07-21T22:10:26.846Z"
      },
      {
        "duration": 13,
        "start_time": "2024-07-21T22:10:26.850Z"
      },
      {
        "duration": 15,
        "start_time": "2024-07-21T22:10:26.864Z"
      },
      {
        "duration": 27,
        "start_time": "2024-07-21T22:10:26.880Z"
      },
      {
        "duration": 2,
        "start_time": "2024-07-21T22:10:26.908Z"
      },
      {
        "duration": 8,
        "start_time": "2024-07-21T22:10:26.912Z"
      },
      {
        "duration": 5,
        "start_time": "2024-07-21T22:10:26.921Z"
      },
      {
        "duration": 3,
        "start_time": "2024-07-21T22:10:26.927Z"
      },
      {
        "duration": 12,
        "start_time": "2024-07-21T22:10:26.931Z"
      },
      {
        "duration": 23,
        "start_time": "2024-07-21T22:10:26.944Z"
      },
      {
        "duration": 16,
        "start_time": "2024-07-21T22:10:26.968Z"
      },
      {
        "duration": 30,
        "start_time": "2024-07-21T22:10:26.985Z"
      },
      {
        "duration": 16,
        "start_time": "2024-07-21T22:10:27.016Z"
      },
      {
        "duration": 68,
        "start_time": "2024-07-22T07:04:42.820Z"
      },
      {
        "duration": 13,
        "start_time": "2024-07-22T07:04:42.890Z"
      },
      {
        "duration": 13,
        "start_time": "2024-07-22T07:04:42.904Z"
      },
      {
        "duration": 8,
        "start_time": "2024-07-22T07:04:42.918Z"
      },
      {
        "duration": 51,
        "start_time": "2024-07-22T07:04:42.927Z"
      },
      {
        "duration": 2,
        "start_time": "2024-07-22T07:04:42.980Z"
      },
      {
        "duration": 8,
        "start_time": "2024-07-22T07:04:42.984Z"
      },
      {
        "duration": 4,
        "start_time": "2024-07-22T07:04:42.993Z"
      },
      {
        "duration": 6,
        "start_time": "2024-07-22T07:04:42.998Z"
      },
      {
        "duration": 5,
        "start_time": "2024-07-22T07:04:43.006Z"
      },
      {
        "duration": 29,
        "start_time": "2024-07-22T07:04:43.012Z"
      },
      {
        "duration": 8,
        "start_time": "2024-07-22T07:04:43.042Z"
      },
      {
        "duration": 19,
        "start_time": "2024-07-22T07:04:43.051Z"
      },
      {
        "duration": 23,
        "start_time": "2024-07-22T07:04:43.071Z"
      },
      {
        "duration": 24,
        "start_time": "2024-07-22T07:04:43.095Z"
      },
      {
        "duration": 15,
        "start_time": "2024-07-22T07:04:43.120Z"
      },
      {
        "duration": 4,
        "start_time": "2024-07-22T07:04:43.136Z"
      },
      {
        "duration": 32,
        "start_time": "2024-07-22T07:04:43.141Z"
      },
      {
        "duration": 10,
        "start_time": "2024-07-22T07:04:43.174Z"
      },
      {
        "duration": 14,
        "start_time": "2024-07-22T07:04:43.185Z"
      },
      {
        "duration": 8,
        "start_time": "2024-07-22T07:04:43.201Z"
      },
      {
        "duration": 34,
        "start_time": "2024-07-22T07:04:43.210Z"
      },
      {
        "duration": 18,
        "start_time": "2024-07-22T07:04:43.246Z"
      },
      {
        "duration": 17,
        "start_time": "2024-07-22T07:04:43.266Z"
      },
      {
        "duration": 28,
        "start_time": "2024-07-22T07:04:43.284Z"
      },
      {
        "duration": 65,
        "start_time": "2024-07-22T07:04:43.314Z"
      },
      {
        "duration": 16,
        "start_time": "2024-07-22T07:05:51.411Z"
      },
      {
        "duration": 26,
        "start_time": "2024-07-22T07:06:13.550Z"
      },
      {
        "duration": 19,
        "start_time": "2024-07-22T07:09:42.093Z"
      },
      {
        "duration": 18,
        "start_time": "2024-07-22T07:13:41.759Z"
      },
      {
        "duration": 494,
        "start_time": "2024-07-23T01:22:26.181Z"
      },
      {
        "duration": 22,
        "start_time": "2024-07-23T01:22:26.677Z"
      },
      {
        "duration": 15,
        "start_time": "2024-07-23T01:22:26.700Z"
      },
      {
        "duration": 10,
        "start_time": "2024-07-23T01:22:26.717Z"
      },
      {
        "duration": 58,
        "start_time": "2024-07-23T01:22:26.729Z"
      },
      {
        "duration": 4,
        "start_time": "2024-07-23T01:22:26.788Z"
      },
      {
        "duration": 13,
        "start_time": "2024-07-23T01:22:26.793Z"
      },
      {
        "duration": 4,
        "start_time": "2024-07-23T01:22:26.808Z"
      },
      {
        "duration": 11,
        "start_time": "2024-07-23T01:22:26.814Z"
      },
      {
        "duration": 4,
        "start_time": "2024-07-23T01:22:26.827Z"
      },
      {
        "duration": 35,
        "start_time": "2024-07-23T01:22:26.855Z"
      },
      {
        "duration": 11,
        "start_time": "2024-07-23T01:22:26.891Z"
      },
      {
        "duration": 4,
        "start_time": "2024-07-23T01:22:26.904Z"
      },
      {
        "duration": 12,
        "start_time": "2024-07-23T01:22:26.911Z"
      },
      {
        "duration": 50,
        "start_time": "2024-07-23T01:22:26.924Z"
      },
      {
        "duration": 17,
        "start_time": "2024-07-23T01:22:26.976Z"
      },
      {
        "duration": 4,
        "start_time": "2024-07-23T01:22:26.995Z"
      },
      {
        "duration": 12,
        "start_time": "2024-07-23T01:22:27.001Z"
      },
      {
        "duration": 7,
        "start_time": "2024-07-23T01:22:27.014Z"
      },
      {
        "duration": 34,
        "start_time": "2024-07-23T01:22:27.023Z"
      },
      {
        "duration": 11,
        "start_time": "2024-07-23T01:22:27.058Z"
      },
      {
        "duration": 23,
        "start_time": "2024-07-23T01:22:27.070Z"
      },
      {
        "duration": 19,
        "start_time": "2024-07-23T01:22:27.095Z"
      },
      {
        "duration": 41,
        "start_time": "2024-07-23T01:22:27.117Z"
      },
      {
        "duration": 48,
        "start_time": "2024-07-23T01:22:27.160Z"
      },
      {
        "duration": 339,
        "start_time": "2024-07-23T01:26:32.575Z"
      },
      {
        "duration": 155,
        "start_time": "2024-07-23T10:59:23.950Z"
      },
      {
        "duration": 475,
        "start_time": "2024-07-23T22:10:08.957Z"
      },
      {
        "duration": 20,
        "start_time": "2024-07-23T22:10:09.434Z"
      },
      {
        "duration": 14,
        "start_time": "2024-07-23T22:10:09.456Z"
      },
      {
        "duration": 27,
        "start_time": "2024-07-23T22:10:09.471Z"
      },
      {
        "duration": 34,
        "start_time": "2024-07-23T22:10:09.500Z"
      },
      {
        "duration": 3,
        "start_time": "2024-07-23T22:10:09.536Z"
      },
      {
        "duration": 14,
        "start_time": "2024-07-23T22:10:09.540Z"
      },
      {
        "duration": 32,
        "start_time": "2024-07-23T22:10:09.555Z"
      },
      {
        "duration": 42,
        "start_time": "2024-07-23T22:10:09.589Z"
      },
      {
        "duration": 26,
        "start_time": "2024-07-23T22:10:09.633Z"
      },
      {
        "duration": 51,
        "start_time": "2024-07-23T22:10:09.661Z"
      },
      {
        "duration": 21,
        "start_time": "2024-07-23T22:10:09.713Z"
      },
      {
        "duration": 15,
        "start_time": "2024-07-23T22:10:09.736Z"
      },
      {
        "duration": 36,
        "start_time": "2024-07-23T22:10:09.754Z"
      },
      {
        "duration": 32,
        "start_time": "2024-07-23T22:10:09.791Z"
      },
      {
        "duration": 15,
        "start_time": "2024-07-23T22:10:09.824Z"
      },
      {
        "duration": 9,
        "start_time": "2024-07-23T22:10:09.840Z"
      },
      {
        "duration": 19,
        "start_time": "2024-07-23T22:10:09.850Z"
      },
      {
        "duration": 16,
        "start_time": "2024-07-23T22:10:09.871Z"
      },
      {
        "duration": 21,
        "start_time": "2024-07-23T22:10:09.888Z"
      },
      {
        "duration": 53,
        "start_time": "2024-07-23T22:10:09.910Z"
      },
      {
        "duration": 66,
        "start_time": "2024-07-23T22:10:09.964Z"
      },
      {
        "duration": 299,
        "start_time": "2024-07-23T22:10:10.032Z"
      },
      {
        "duration": 19,
        "start_time": "2024-07-23T22:10:10.332Z"
      },
      {
        "duration": 18,
        "start_time": "2024-07-23T22:10:10.352Z"
      },
      {
        "duration": 29,
        "start_time": "2024-07-23T22:10:10.371Z"
      },
      {
        "duration": 219,
        "start_time": "2024-07-23T22:12:02.141Z"
      }
    ],
    "colab": {
      "provenance": []
    },
    "kernelspec": {
      "display_name": "Python 3 (ipykernel)",
      "language": "python",
      "name": "python3"
    },
    "language_info": {
      "codemirror_mode": {
        "name": "ipython",
        "version": 3
      },
      "file_extension": ".py",
      "mimetype": "text/x-python",
      "name": "python",
      "nbconvert_exporter": "python",
      "pygments_lexer": "ipython3",
      "version": "3.9.5"
    },
    "toc": {
      "base_numbering": 1,
      "nav_menu": {},
      "number_sections": true,
      "sideBar": true,
      "skip_h1_title": true,
      "title_cell": "Table of Contents",
      "title_sidebar": "Contents",
      "toc_cell": false,
      "toc_position": {
        "height": "calc(100% - 180px)",
        "left": "10px",
        "top": "150px",
        "width": "184.943px"
      },
      "toc_section_display": true,
      "toc_window_display": true
    }
  },
  "nbformat": 4,
  "nbformat_minor": 5
}
