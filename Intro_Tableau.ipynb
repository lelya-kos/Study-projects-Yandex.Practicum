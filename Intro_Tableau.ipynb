{
  "cells": [
    {
      "cell_type": "markdown",
      "metadata": {
        "id": "view-in-github",
        "colab_type": "text"
      },
      "source": [
        "<a href=\"https://colab.research.google.com/github/lelya-kos/Study-projects-Yandex.Practicum/blob/main/Intro_Tableau.ipynb\" target=\"_parent\"><img src=\"https://colab.research.google.com/assets/colab-badge.svg\" alt=\"Open In Colab\"/></a>"
      ]
    },
    {
      "cell_type": "markdown",
      "id": "157cba7a",
      "metadata": {
        "id": "157cba7a"
      },
      "source": [
        "# Проект \"История TED конференций\""
      ]
    },
    {
      "cell_type": "markdown",
      "id": "d16ea941",
      "metadata": {
        "id": "d16ea941"
      },
      "source": [
        "**Описание проекта**\n",
        "\n",
        "TED (от англ technology, education, design — технологии, образование, дизайн) — некоммерческий фонд, проводящий популярные конференции. Специалисты, выступающий на TED работают в самых разных областях и проводят короткие выступления на актуальные социальные, культурные и научные темы.\n",
        "\n",
        "\n",
        "В разное время на TED-конференциях выступали математик Бенуа Мандельброт, теоретик искусственного интеллекта Марвин Минский, спортсменка Дана Ньяд и основатель Google Ларри Пейдж. В то же время, в истории TED были неоднозначные и даже скандальные выступления. Например, Рэнди Пауэлл выступил в 2010 году с выступлением о псевдонаучной «вихревой математике», а в 2014 году в конференции TEDMED участвовала Элизабет Холмс — основательница печально известного стартапа Theranos.\n",
        "\n",
        "В этом проекте с помощью Tableau исследуем историю TED-конфренций.\n"
      ]
    },
    {
      "cell_type": "markdown",
      "id": "cb5394ab",
      "metadata": {
        "id": "cb5394ab"
      },
      "source": [
        "Описание данных - имеются пять файлов:\n",
        "- tableau_project_data_1.csv\n",
        "- tableau_project_data_2.csv\n",
        "- tableau_project_data_3.csv\n",
        "- tableau_project_event_dict.csv\n",
        "- tableau_project_speakers_dict.csv\n",
        "\n",
        "\n",
        "tableau_project_data_1.csv, tableau_project_data_2.csv, tableau_project_data_3.csv — данные выступлений.\n",
        "\n",
        "\n",
        "tableau_project_event_dict.csv — справочник конференций.\n",
        "\n",
        "\n",
        "tableau_project_speakers_dict.csv — справочник авторов выступления."
      ]
    },
    {
      "cell_type": "markdown",
      "id": "263330fc",
      "metadata": {
        "id": "263330fc"
      },
      "source": [
        "Презентация по ссылке  [Ссылка!](https://public.tableau.com/views/TED-_17306371998350/TED-?:language=en-US&:sid=&:redirect=auth&:display_count=n&:origin=viz_share_link)\n",
        "</font><br>"
      ]
    }
  ],
  "metadata": {
    "ExecuteTimeLog": [
      {
        "duration": 102,
        "start_time": "2024-11-02T14:40:56.319Z"
      },
      {
        "duration": 72,
        "start_time": "2024-11-02T14:48:04.448Z"
      }
    ],
    "kernelspec": {
      "display_name": "Python 3 (ipykernel)",
      "language": "python",
      "name": "python3"
    },
    "language_info": {
      "codemirror_mode": {
        "name": "ipython",
        "version": 3
      },
      "file_extension": ".py",
      "mimetype": "text/x-python",
      "name": "python",
      "nbconvert_exporter": "python",
      "pygments_lexer": "ipython3",
      "version": "3.9.5"
    },
    "toc": {
      "base_numbering": 1,
      "nav_menu": {},
      "number_sections": true,
      "sideBar": true,
      "skip_h1_title": true,
      "title_cell": "Table of Contents",
      "title_sidebar": "Contents",
      "toc_cell": false,
      "toc_position": {},
      "toc_section_display": true,
      "toc_window_display": false
    },
    "colab": {
      "provenance": [],
      "include_colab_link": true
    }
  },
  "nbformat": 4,
  "nbformat_minor": 5
}